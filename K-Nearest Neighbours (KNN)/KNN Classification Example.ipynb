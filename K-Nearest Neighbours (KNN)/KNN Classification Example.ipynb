{
 "cells": [
  {
   "cell_type": "markdown",
   "id": "6a5c8cb2",
   "metadata": {},
   "source": [
    "# KNN Classification Example\n",
    "\n",
    "In this Notebook, generates a synthetic dataset, trains a K-Nearest Neighbors (KNN) classifier on the data, predicts class labels for a test set, evaluates the model's accuracy, and visualizes the decision boundary using contour plots. This process demonstrates how to work with data, train a simple classification model, and visualize its performance."
   ]
  },
  {
   "cell_type": "markdown",
   "id": "8949ce71",
   "metadata": {},
   "source": [
    "1. **Import Libraries**: The code begins by importing the necessary libraries for data manipulation, visualization, and machine learning."
   ]
  },
  {
   "cell_type": "code",
   "execution_count": 2,
   "id": "6e7f2394",
   "metadata": {},
   "outputs": [],
   "source": [
    "import numpy as np\n",
    "import pandas as pd\n",
    "import matplotlib.pyplot as plt\n",
    "from sklearn.datasets import make_classification\n",
    "from sklearn.model_selection import train_test_split\n",
    "from sklearn.neighbors import KNeighborsClassifier\n",
    "from sklearn.metrics import accuracy_score\n"
   ]
  },
  {
   "cell_type": "markdown",
   "id": "ec1a8878",
   "metadata": {},
   "source": [
    "2. **Load and Preprocess Data**: In this step, a synthetic dataset is generated using the `make_classification` function from scikit-learn's `datasets` module. It generates random samples with two informative features and no redundant features.\n"
   ]
  },
  {
   "cell_type": "code",
   "execution_count": 3,
   "id": "c4652ef9",
   "metadata": {},
   "outputs": [],
   "source": [
    "# Generate the synthetic dataset\n",
    "X, y = make_classification(n_samples=100, n_features=2, n_informative=2, n_redundant=0, random_state=42)\n"
   ]
  },
  {
   "cell_type": "markdown",
   "id": "3ed0c39a",
   "metadata": {},
   "source": [
    "The generated features are stored in the `X` variable, and the corresponding labels are stored in the `y` variable. Then, a pandas DataFrame called `data` is created with these features and labels.\n"
   ]
  },
  {
   "cell_type": "code",
   "execution_count": 15,
   "id": "109778eb",
   "metadata": {},
   "outputs": [],
   "source": [
    "# Create a DataFrame\n",
    "data = pd.DataFrame(X, columns=['Feature 1', 'Feature 2'])\n",
    "data['Label'] = y"
   ]
  },
  {
   "cell_type": "code",
   "execution_count": 5,
   "id": "2ad33c54",
   "metadata": {},
   "outputs": [
    {
     "data": {
      "text/html": [
       "<div>\n",
       "<style scoped>\n",
       "    .dataframe tbody tr th:only-of-type {\n",
       "        vertical-align: middle;\n",
       "    }\n",
       "\n",
       "    .dataframe tbody tr th {\n",
       "        vertical-align: top;\n",
       "    }\n",
       "\n",
       "    .dataframe thead th {\n",
       "        text-align: right;\n",
       "    }\n",
       "</style>\n",
       "<table border=\"1\" class=\"dataframe\">\n",
       "  <thead>\n",
       "    <tr style=\"text-align: right;\">\n",
       "      <th></th>\n",
       "      <th>Feature 1</th>\n",
       "      <th>Feature 2</th>\n",
       "      <th>Label</th>\n",
       "    </tr>\n",
       "  </thead>\n",
       "  <tbody>\n",
       "    <tr>\n",
       "      <th>63</th>\n",
       "      <td>0.341294</td>\n",
       "      <td>0.573042</td>\n",
       "      <td>1</td>\n",
       "    </tr>\n",
       "    <tr>\n",
       "      <th>59</th>\n",
       "      <td>-1.132074</td>\n",
       "      <td>0.890759</td>\n",
       "      <td>0</td>\n",
       "    </tr>\n",
       "    <tr>\n",
       "      <th>5</th>\n",
       "      <td>-0.808045</td>\n",
       "      <td>1.196641</td>\n",
       "      <td>0</td>\n",
       "    </tr>\n",
       "    <tr>\n",
       "      <th>98</th>\n",
       "      <td>-1.158068</td>\n",
       "      <td>0.865620</td>\n",
       "      <td>0</td>\n",
       "    </tr>\n",
       "    <tr>\n",
       "      <th>60</th>\n",
       "      <td>-0.539630</td>\n",
       "      <td>-0.724280</td>\n",
       "      <td>0</td>\n",
       "    </tr>\n",
       "    <tr>\n",
       "      <th>32</th>\n",
       "      <td>-2.026321</td>\n",
       "      <td>0.061945</td>\n",
       "      <td>0</td>\n",
       "    </tr>\n",
       "    <tr>\n",
       "      <th>86</th>\n",
       "      <td>1.355370</td>\n",
       "      <td>1.155093</td>\n",
       "      <td>1</td>\n",
       "    </tr>\n",
       "    <tr>\n",
       "      <th>19</th>\n",
       "      <td>-2.171053</td>\n",
       "      <td>-0.048629</td>\n",
       "      <td>0</td>\n",
       "    </tr>\n",
       "  </tbody>\n",
       "</table>\n",
       "</div>"
      ],
      "text/plain": [
       "    Feature 1  Feature 2  Label\n",
       "63   0.341294   0.573042      1\n",
       "59  -1.132074   0.890759      0\n",
       "5   -0.808045   1.196641      0\n",
       "98  -1.158068   0.865620      0\n",
       "60  -0.539630  -0.724280      0\n",
       "32  -2.026321   0.061945      0\n",
       "86   1.355370   1.155093      1\n",
       "19  -2.171053  -0.048629      0"
      ]
     },
     "execution_count": 5,
     "metadata": {},
     "output_type": "execute_result"
    }
   ],
   "source": [
    "data.sample(8)"
   ]
  },
  {
   "cell_type": "markdown",
   "id": "eed62436",
   "metadata": {},
   "source": [
    "3. **Visualize Data**: The code creates a histogram of the features in the `data` DataFrame to visualize their distributions.\n"
   ]
  },
  {
   "cell_type": "code",
   "execution_count": 6,
   "id": "9f06644e",
   "metadata": {},
   "outputs": [
    {
     "name": "stderr",
     "output_type": "stream",
     "text": [
      "C:\\Users\\ayman\\AppData\\Local\\Temp\\ipykernel_3672\\2383931128.py:3: UserWarning: To output multiple subplots, the figure containing the passed axes is being cleared.\n",
      "  data.hist(ax=ax)\n"
     ]
    },
    {
     "data": {
      "image/png": "[encoded data removed]",
      "text/plain": [
       "<Figure size 800x800 with 4 Axes>"
      ]
     },
     "metadata": {},
     "output_type": "display_data"
    }
   ],
   "source": [
    "fig = plt.figure(figsize = (8,8))\n",
    "ax = fig.gca()\n",
    "data.hist(ax=ax)\n",
    "plt.show()"
   ]
  },
  {
   "cell_type": "markdown",
   "id": "6c60fbce",
   "metadata": {},
   "source": [
    "4. **Data Splitting**: The data is split into training and testing sets using the `train_test_split` function. 80% of the data is allocated for training and 20% for testing.\n"
   ]
  },
  {
   "cell_type": "code",
   "execution_count": 7,
   "id": "3fec49e5",
   "metadata": {},
   "outputs": [],
   "source": [
    "# preprocess the data\n",
    " \n",
    "X_train, X_test, y_train, y_test = train_test_split(X, y, test_size=0.2, random_state=42)"
   ]
  },
  {
   "cell_type": "markdown",
   "id": "8650cc18",
   "metadata": {},
   "source": [
    "5. **Create and Train KNN Model**: A K-Nearest Neighbors (KNN) classifier is created and trained using the training data.\n",
    "\n",
    " "
   ]
  },
  {
   "cell_type": "code",
   "execution_count": 8,
   "id": "d0a2fac6",
   "metadata": {},
   "outputs": [
    {
     "data": {
      "text/html": [
       "<style>#sk-container-id-1 {color: black;}#sk-container-id-1 pre{padding: 0;}#sk-container-id-1 div.sk-toggleable {background-color: white;}#sk-container-id-1 label.sk-toggleable__label {cursor: pointer;display: block;width: 100%;margin-bottom: 0;padding: 0.3em;box-sizing: border-box;text-align: center;}#sk-container-id-1 label.sk-toggleable__label-arrow:before {content: \"▸\";float: left;margin-right: 0.25em;color: #696969;}#sk-container-id-1 label.sk-toggleable__label-arrow:hover:before {color: black;}#sk-container-id-1 div.sk-estimator:hover label.sk-toggleable__label-arrow:before {color: black;}#sk-container-id-1 div.sk-toggleable__content {max-height: 0;max-width: 0;overflow: hidden;text-align: left;background-color: #f0f8ff;}#sk-container-id-1 div.sk-toggleable__content pre {margin: 0.2em;color: black;border-radius: 0.25em;background-color: #f0f8ff;}#sk-container-id-1 input.sk-toggleable__control:checked~div.sk-toggleable__content {max-height: 200px;max-width: 100%;overflow: auto;}#sk-container-id-1 input.sk-toggleable__control:checked~label.sk-toggleable__label-arrow:before {content: \"▾\";}#sk-container-id-1 div.sk-estimator input.sk-toggleable__control:checked~label.sk-toggleable__label {background-color: #d4ebff;}#sk-container-id-1 div.sk-label input.sk-toggleable__control:checked~label.sk-toggleable__label {background-color: #d4ebff;}#sk-container-id-1 input.sk-hidden--visually {border: 0;clip: rect(1px 1px 1px 1px);clip: rect(1px, 1px, 1px, 1px);height: 1px;margin: -1px;overflow: hidden;padding: 0;position: absolute;width: 1px;}#sk-container-id-1 div.sk-estimator {font-family: monospace;background-color: #f0f8ff;border: 1px dotted black;border-radius: 0.25em;box-sizing: border-box;margin-bottom: 0.5em;}#sk-container-id-1 div.sk-estimator:hover {background-color: #d4ebff;}#sk-container-id-1 div.sk-parallel-item::after {content: \"\";width: 100%;border-bottom: 1px solid gray;flex-grow: 1;}#sk-container-id-1 div.sk-label:hover label.sk-toggleable__label {background-color: #d4ebff;}#sk-container-id-1 div.sk-serial::before {content: \"\";position: absolute;border-left: 1px solid gray;box-sizing: border-box;top: 0;bottom: 0;left: 50%;z-index: 0;}#sk-container-id-1 div.sk-serial {display: flex;flex-direction: column;align-items: center;background-color: white;padding-right: 0.2em;padding-left: 0.2em;position: relative;}#sk-container-id-1 div.sk-item {position: relative;z-index: 1;}#sk-container-id-1 div.sk-parallel {display: flex;align-items: stretch;justify-content: center;background-color: white;position: relative;}#sk-container-id-1 div.sk-item::before, #sk-container-id-1 div.sk-parallel-item::before {content: \"\";position: absolute;border-left: 1px solid gray;box-sizing: border-box;top: 0;bottom: 0;left: 50%;z-index: -1;}#sk-container-id-1 div.sk-parallel-item {display: flex;flex-direction: column;z-index: 1;position: relative;background-color: white;}#sk-container-id-1 div.sk-parallel-item:first-child::after {align-self: flex-end;width: 50%;}#sk-container-id-1 div.sk-parallel-item:last-child::after {align-self: flex-start;width: 50%;}#sk-container-id-1 div.sk-parallel-item:only-child::after {width: 0;}#sk-container-id-1 div.sk-dashed-wrapped {border: 1px dashed gray;margin: 0 0.4em 0.5em 0.4em;box-sizing: border-box;padding-bottom: 0.4em;background-color: white;}#sk-container-id-1 div.sk-label label {font-family: monospace;font-weight: bold;display: inline-block;line-height: 1.2em;}#sk-container-id-1 div.sk-label-container {text-align: center;}#sk-container-id-1 div.sk-container {/* jupyter's `normalize.less` sets `[hidden] { display: none; }` but bootstrap.min.css set `[hidden] { display: none !important; }` so we also need the `!important` here to be able to override the default hidden behavior on the sphinx rendered scikit-learn.org. See: https://github.com/scikit-learn/scikit-learn/issues/21755 */display: inline-block !important;position: relative;}#sk-container-id-1 div.sk-text-repr-fallback {display: none;}</style><div id=\"sk-container-id-1\" class=\"sk-top-container\"><div class=\"sk-text-repr-fallback\"><pre>KNeighborsClassifier(n_neighbors=3)</pre><b>In a Jupyter environment, please rerun this cell to show the HTML representation or trust the notebook. <br />On GitHub, the HTML representation is unable to render, please try loading this page with nbviewer.org.</b></div><div class=\"sk-container\" hidden><div class=\"sk-item\"><div class=\"sk-estimator sk-toggleable\"><input class=\"sk-toggleable__control sk-hidden--visually\" id=\"sk-estimator-id-1\" type=\"checkbox\" checked><label for=\"sk-estimator-id-1\" class=\"sk-toggleable__label sk-toggleable__label-arrow\">KNeighborsClassifier</label><div class=\"sk-toggleable__content\"><pre>KNeighborsClassifier(n_neighbors=3)</pre></div></div></div></div></div>"
      ],
      "text/plain": [
       "KNeighborsClassifier(n_neighbors=3)"
      ]
     },
     "execution_count": 8,
     "metadata": {},
     "output_type": "execute_result"
    }
   ],
   "source": [
    "k = 3\n",
    "knn = KNeighborsClassifier(n_neighbors=k)\n",
    "knn.fit(X_train, y_train)"
   ]
  },
  {
   "cell_type": "markdown",
   "id": "601740e4",
   "metadata": {},
   "source": [
    "6. **Make Predictions**: The trained KNN model is used to make predictions on the test data."
   ]
  },
  {
   "cell_type": "code",
   "execution_count": 9,
   "id": "b6b81d44",
   "metadata": {},
   "outputs": [],
   "source": [
    "# Make predictions\n",
    "y_pred = knn.predict(X_test)"
   ]
  },
  {
   "cell_type": "code",
   "execution_count": 10,
   "id": "1112da96",
   "metadata": {},
   "outputs": [
    {
     "data": {
      "text/plain": [
       "array([0, 1, 1, 0, 1, 0, 0, 0, 1, 1, 1, 0, 1, 0, 0, 1, 1, 1, 0, 0])"
      ]
     },
     "execution_count": 10,
     "metadata": {},
     "output_type": "execute_result"
    }
   ],
   "source": [
    "y_pred"
   ]
  },
  {
   "cell_type": "markdown",
   "id": "7d69f4aa",
   "metadata": {},
   "source": [
    "7. **Evaluate the Model**: The accuracy of the model's predictions is calculated and printed.\n"
   ]
  },
  {
   "cell_type": "code",
   "execution_count": 11,
   "id": "afeab796",
   "metadata": {},
   "outputs": [
    {
     "name": "stdout",
     "output_type": "stream",
     "text": [
      "Accuracy: 0.95\n"
     ]
    }
   ],
   "source": [
    "# Evaluate the model\n",
    "accuracy = accuracy_score(y_test, y_pred)\n",
    "print(f\"Accuracy: {accuracy}\")"
   ]
  },
  {
   "cell_type": "markdown",
   "id": "92f1bdae",
   "metadata": {},
   "source": [
    "8. **Visualize Decision Boundary**: A meshgrid of feature values is created to visualize the decision boundary of the KNN model. Predicted class labels are assigned to each point in the meshgrid, and the meshgrid is used to create a contour plot of the decision boundary."
   ]
  },
  {
   "cell_type": "code",
   "execution_count": 12,
   "id": "908be1d6",
   "metadata": {},
   "outputs": [],
   "source": [
    "#  Visualize the results\n",
    "# Create a meshgrid of feature values\n",
    "\n",
    "h = 0.02  # Step size for meshgrid\n",
    "x_min, x_max = X[:, 0].min() - 1, X[:, 0].max() + 1\n",
    "y_min, y_max = X[:, 1].min() - 1, X[:, 1].max() + 1\n",
    "xx, yy = np.meshgrid(np.arange(x_min, x_max, h), np.arange(y_min, y_max, h))"
   ]
  },
  {
   "cell_type": "code",
   "execution_count": 13,
   "id": "e058521e",
   "metadata": {},
   "outputs": [],
   "source": [
    "# Predict class labels for each point in the meshgrid\n",
    "Z = knn.predict(np.c_[xx.ravel(), yy.ravel()])\n",
    "Z = Z.reshape(xx.shape)\n"
   ]
  },
  {
   "cell_type": "markdown",
   "id": "69b5f312",
   "metadata": {},
   "source": [
    "\n",
    "\n",
    "    Finally, the decision boundary and the data points are plotted using matplotlib."
   ]
  },
  {
   "cell_type": "code",
   "execution_count": 14,
   "id": "77b3302e",
   "metadata": {},
   "outputs": [
    {
     "data": {
      "image/png": "[encoded data removed]",
      "text/plain": [
       "<Figure size 640x480 with 1 Axes>"
      ]
     },
     "metadata": {},
     "output_type": "display_data"
    }
   ],
   "source": [
    "# Plot the decision boundary and data points\n",
    "plt.figure()\n",
    "plt.contourf(xx, yy, Z, alpha=0.8)\n",
    "plt.scatter(X[:, 0], X[:, 1], c=y, cmap=plt.cm.Paired)\n",
    "plt.xlabel(\"Feature 1\")\n",
    "plt.ylabel(\"Feature 2\")\n",
    "plt.title(f\"KNN (k={k}) Decision Boundary\")\n",
    "plt.show()\n"
   ]
  },
  {
   "cell_type": "markdown",
   "id": "db26eeaa",
   "metadata": {},
   "source": [
    "\n",
    "This code snippet demonstrates the process of generating synthetic data, training a KNN classifier, making predictions, evaluating the model's accuracy, and visualizing the decision boundary."
   ]
  },
  {
   "cell_type": "markdown",
   "id": "09d3afeb",
   "metadata": {},
   "source": [
    "<!-- Is code ka maqsad KNN model ki decision boundary ko tasawwur mein lay ker us ka contour plot banana hai. Is tareeqay se hum samajh saktay hain ke model kis tarah se alag alag regions mein classes ko separate karta hai.\n",
    "\n",
    "1. **Meshgrid Banane ka Tareeqa**: Sab se pehle, feature values ki meshgrid banai jati hai jis se decision boundary ka tasawwur mil sake. Yeh meshgrid do dimensions (feature 1 aur feature 2) mein distribute hokar banta hai.\n",
    "\n",
    "    ```python\n",
    "    h = 0.02  # Meshgrid ke qadam ka size\n",
    "    x_min, x_max = X[:, 0].min() - 1, X[:, 0].max() + 1\n",
    "    y_min, y_max = X[:, 1].min() - 1, X[:, 1].max() + 1\n",
    "    xx, yy = np.meshgrid(np.arange(x_min, x_max, h), np.arange(y_min, y_max, h))\n",
    "    ```\n",
    "\n",
    "2. **Meshgrid Mein Labels Ka Prediction**: Meshgrid ke har point ke liye predicted class labels assign kiye jatay hain. Yeh labels KNN model se hasil kiye jate hain.\n",
    "\n",
    "    ```python\n",
    "    Z = knn.predict(np.c_[xx.ravel(), yy.ravel()])\n",
    "    Z = Z.reshape(xx.shape)\n",
    "    ```\n",
    "\n",
    "3. **Contour Plot Banane Ka Tareeqa**: Ab meshgrid aur us per assign kiye gaye labels se, decision boundary ka contour plot banaya jata hai. Is plot mein har area ki color alag hoti hai jis se classes ki separation nazar aati hai.\n",
    "\n",
    "    ```python\n",
    "    plt.figure()\n",
    "    plt.contourf(xx, yy, Z, alpha=0.8)\n",
    "    plt.scatter(X[:, 0], X[:, 1], c=y, cmap=plt.cm.Paired)\n",
    "    plt.xlabel(\"Feature 1\")\n",
    "    plt.ylabel(\"Feature 2\")\n",
    "    plt.title(f\"KNN (k={k}) Decision Boundary\")\n",
    "    plt.show()\n",
    "    ```\n",
    "\n",
    "Yeh code us KNN model ki decision boundary ko visual representation mein darust tareeqay se samjhane mein madadgar hai. Contour plot se hum dekh sakte hain ke model kis tarah se features ko dekhtay hue classes ko separate kar raha hai. -->"
   ]
  },
  {
   "cell_type": "markdown",
   "id": "5b43d616",
   "metadata": {},
   "source": [
    "<!-- In dono lines mein, code x aur y dimensions ke liye feature space mein minimum aur maximum values tayyar kar raha hai. In lines ka maqsad KNN model ki decision boundary ko visualize karne ke liye meshgrid ki range mukarrar karna hai.\n",
    "\n",
    "1. **x_min aur x_max ka Hisaab**: x dimension (feature 1) ke liye, code feature matrix `X` ke pehle column par `min()` aur `max()` functions istemal kar ke feature ki minimum value (`x_min`) aur maximum value (`x_max`) tayyar karta hai.\n",
    "\n",
    "    ```python\n",
    "    x_min, x_max = X[:, 0].min() - 1, X[:, 0].max() + 1\n",
    "    ```\n",
    "\n",
    "    `x_min` se 1 minus aur `x_max` mein 1 add karke, minimum aur maximum values ke aas-paas chhota sa faasla banaya jata hai taki data points khud visualize ki borders par na hon.\n",
    "\n",
    "2. **y_min aur y_max ka Hisaab**: Usi tarah, y dimension (feature 2) ke liye, code feature matrix `X` ke dusre column par `min()` aur `max()` functions istemal kar ke feature ki minimum value (`y_min`) aur maximum value (`y_max`) tayyar karta hai.\n",
    "\n",
    "    ```python\n",
    "    y_min, y_max = X[:, 1].min() - 1, X[:, 1].max() + 1\n",
    "    ```\n",
    "\n",
    "    x dimension ke tarah, `y_min` se 1 minus aur `y_max` mein 1 add karke, data points ke aas-paas chhota sa faasla banaya jata hai.\n",
    "\n",
    "Yeh lines yehi yaqeeni banate hain ke meshgrid jo `np.meshgrid()` function se banaya jayega, asal data points se thoda sa bara area cover karega. Yeh extra space decision boundary ko plot ke kenarein se door rakhne mein madad karti hai, taki boundary plot ki edges ke bohot qareeb na aaye.\n",
    "\n",
    "-----------\n",
    "\n",
    "Iss line `xx, yy = np.meshgrid(np.arange(x_min, x_max, h), np.arange(y_min, y_max, h))`, ek meshgrid banaya ja raha hai jo x aur y ke values ko mukarrar hadood ke andar cover karega. Yeh meshgrid KNN model ki decision boundary ko tasawwur mein lane ke liye istemal hoga.\n",
    "\n",
    "- `np.arange(x_min, x_max, h)` `x_min` se shuru ho kar har `h` ke faslay tak pohanchne wale values ka sequence banata hai. Yeh sequence values meshgrid ke points ki x-coordinates ko darust karta hai.\n",
    "\n",
    "- `np.arange(y_min, y_max, h)` isi tarah y ke liye bhi sequence banata hai, jo meshgrid ke points ki y-coordinates darust karta hai.\n",
    "\n",
    "- `np.meshgrid()` yeh x aur y ke sequences ko le kar her x-coordinate ko her y-coordinate ke sath jor kar ek grid of points banata hai. Hasil hone wale `xx` aur `yy` arrays meshgrid ke har point ki x aur y coordinates ko darust karte hain.\n",
    "\n",
    "Toh ikhtisar mein, yeh code line ek meshgrid banata hai jis mein x aur y ke coordinates mukarrar hadood aur qadam ke teht har point ka tashbeeh karta hai. Yeh meshgrid har point ke liye class labels predict karne aur KNN model ki decision boundary ko tasawwur mein lane ke liye istemal hoga. -->"
   ]
  }
 ],
 "metadata": {
  "kernelspec": {
   "display_name": "Python 3 (ipykernel)",
   "language": "python",
   "name": "python3"
  },
  "language_info": {
   "codemirror_mode": {
    "name": "ipython",
    "version": 3
   },
   "file_extension": ".py",
   "mimetype": "text/x-python",
   "name": "python",
   "nbconvert_exporter": "python",
   "pygments_lexer": "ipython3",
   "version": "3.11.3"
  }
 },
 "nbformat": 4,
 "nbformat_minor": 5
}
