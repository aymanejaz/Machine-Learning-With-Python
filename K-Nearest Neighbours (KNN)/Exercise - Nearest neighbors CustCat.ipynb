{
 "cells": [
  {
   "cell_type": "markdown",
   "metadata": {
    "button": false,
    "new_sheet": false,
    "run_control": {
     "read_only": false
    }
   },
   "source": [
    "<p style=\"text-align:center\">\n",
    "    <a href=\"https://skills.network/?utm_medium=Exinfluencer&utm_source=Exinfluencer&utm_content=000026UJ&utm_term=10006555&utm_id=NA-SkillsNetwork-Channel-SkillsNetworkCoursesIBMDeveloperSkillsNetworkML0101ENSkillsNetwork20718538-2022-01-01\">\n",
    "    <img src=\"https://cf-courses-data.s3.us.cloud-object-storage.appdomain.cloud/assets/logos/SN_web_lightmode.png\" width=\"200\" alt=\"Skills Network Logo\"  />\n",
    "    </a>\n",
    "</p>\n",
    "\n",
    "# K-Nearest Neighbors\n",
    "\n",
    "Estimated time needed: **25** minutes\n",
    "\n",
    "## Objectives\n",
    "\n",
    "After completing this lab you will be able to:\n",
    "\n",
    "*   Use K Nearest neighbors to classify data\n"
   ]
  },
  {
   "cell_type": "markdown",
   "metadata": {
    "button": false,
    "new_sheet": false,
    "run_control": {
     "read_only": false
    }
   },
   "source": [
    "In this Lab you will load a customer dataset, fit the data, and use K-Nearest Neighbors to predict a data point. But what is **K-Nearest Neighbors**?\n"
   ]
  },
  {
   "cell_type": "markdown",
   "metadata": {
    "button": false,
    "new_sheet": false,
    "run_control": {
     "read_only": false
    }
   },
   "source": [
    "**K-Nearest Neighbors** is a supervised learning algorithm. Where the data is 'trained' with data points corresponding to their classification. To predict the class of a given data point, it takes into account the classes of the 'K' nearest data points and chooses the class in which the majority of the 'K' nearest data points belong to as the predicted class.\n"
   ]
  },
  {
   "cell_type": "markdown",
   "metadata": {
    "button": false,
    "new_sheet": false,
    "run_control": {
     "read_only": false
    }
   },
   "source": [
    "### Here's an visualization of the K-Nearest Neighbors algorithm.\n",
    "\n",
    "<img src=\"https://cf-courses-data.s3.us.cloud-object-storage.appdomain.cloud/IBMDeveloperSkillsNetwork-ML0101EN-SkillsNetwork/labs/Module%203/images/KNN_Diagram.png\">\n"
   ]
  },
  {
   "cell_type": "markdown",
   "metadata": {
    "button": false,
    "new_sheet": false,
    "run_control": {
     "read_only": false
    }
   },
   "source": [
    "In this case, we have data points of Class A and B. We want to predict what the star (test data point) is. If we consider a k value of 3 (3 nearest data points), we will obtain a prediction of Class B. Yet if we consider a k value of 6, we will obtain a prediction of Class A.\n"
   ]
  },
  {
   "cell_type": "markdown",
   "metadata": {
    "button": false,
    "new_sheet": false,
    "run_control": {
     "read_only": false
    }
   },
   "source": [
    "In this sense, it is important to consider the value of k. Hopefully from this diagram, you should get a sense of what the K-Nearest Neighbors algorithm is. It considers the 'K' Nearest Neighbors (data points) when it predicts the classification of the test point.\n"
   ]
  },
  {
   "cell_type": "markdown",
   "metadata": {},
   "source": [
    "<h1>Table of contents</h1>\n",
    "\n",
    "<div class=\"alert alert-block alert-info\" style=\"margin-top: 20px\">\n",
    "    <ol>\n",
    "        <li><a href=\"https://#about_dataset\">About the dataset</a></li>\n",
    "        <li><a href=\"https://#visualization_analysis\">Data Visualization and Analysis</a></li>\n",
    "        <li><a href=\"https://#classification\">Classification</a></li>\n",
    "    </ol>\n",
    "</div>\n",
    "<br>\n",
    "<hr>\n"
   ]
  },
  {
   "cell_type": "code",
   "execution_count": 1,
   "metadata": {},
   "outputs": [
    {
     "name": "stdout",
     "output_type": "stream",
     "text": [
      "Collecting scikit-learn==0.23.1\n",
      "  Downloading scikit-learn-0.23.1.tar.gz (7.2 MB)\n",
      "     ---------------------------------------- 0.0/7.2 MB ? eta -:--:--\n",
      "     ---------------------------------------- 0.0/7.2 MB ? eta -:--:--\n",
      "     ---------------------------------------- 0.0/7.2 MB ? eta -:--:--\n",
      "     ---------------------------------------- 0.1/7.2 MB 409.6 kB/s eta 0:00:18\n",
      "      --------------------------------------- 0.1/7.2 MB 598.8 kB/s eta 0:00:12\n",
      "      --------------------------------------- 0.1/7.2 MB 598.8 kB/s eta 0:00:12\n",
      "      --------------------------------------- 0.2/7.2 MB 541.0 kB/s eta 0:00:13\n",
      "     - -------------------------------------- 0.2/7.2 MB 722.1 kB/s eta 0:00:10\n",
      "     - -------------------------------------- 0.2/7.2 MB 722.1 kB/s eta 0:00:10\n",
      "     - -------------------------------------- 0.3/7.2 MB 708.9 kB/s eta 0:00:10\n",
      "     -- ------------------------------------- 0.4/7.2 MB 791.2 kB/s eta 0:00:09\n",
      "     -- ------------------------------------- 0.4/7.2 MB 791.2 kB/s eta 0:00:09\n",
      "     -- ------------------------------------- 0.4/7.2 MB 768.9 kB/s eta 0:00:09\n",
      "     --- ------------------------------------ 0.6/7.2 MB 984.3 kB/s eta 0:00:07\n",
      "     --- ------------------------------------ 0.6/7.2 MB 1.0 MB/s eta 0:00:07\n",
      "     ---- ----------------------------------- 0.8/7.2 MB 1.1 MB/s eta 0:00:06\n",
      "     ------ --------------------------------- 1.1/7.2 MB 1.5 MB/s eta 0:00:05\n",
      "     ------ --------------------------------- 1.2/7.2 MB 1.6 MB/s eta 0:00:04\n",
      "     -------- ------------------------------- 1.5/7.2 MB 1.8 MB/s eta 0:00:04\n",
      "     ---------- ----------------------------- 2.0/7.2 MB 2.2 MB/s eta 0:00:03\n",
      "     ----------- ---------------------------- 2.0/7.2 MB 2.3 MB/s eta 0:00:03\n",
      "     ----------- ---------------------------- 2.0/7.2 MB 2.3 MB/s eta 0:00:03\n",
      "     ----------- ---------------------------- 2.0/7.2 MB 2.3 MB/s eta 0:00:03\n",
      "     ----------- ---------------------------- 2.0/7.2 MB 2.3 MB/s eta 0:00:03\n",
      "     ----------- ---------------------------- 2.0/7.2 MB 2.3 MB/s eta 0:00:03\n",
      "     ----------- ---------------------------- 2.0/7.2 MB 2.3 MB/s eta 0:00:03\n",
      "     ----------- ---------------------------- 2.1/7.2 MB 1.8 MB/s eta 0:00:03\n",
      "     ----------- ---------------------------- 2.1/7.2 MB 1.8 MB/s eta 0:00:03\n",
      "     ----------- ---------------------------- 2.1/7.2 MB 1.8 MB/s eta 0:00:03\n",
      "     ----------- ---------------------------- 2.1/7.2 MB 1.8 MB/s eta 0:00:03\n",
      "     -------------- ------------------------- 2.6/7.2 MB 1.9 MB/s eta 0:00:03\n",
      "     --------------- ------------------------ 2.7/7.2 MB 1.9 MB/s eta 0:00:03\n",
      "     --------------- ------------------------ 2.7/7.2 MB 1.9 MB/s eta 0:00:03\n",
      "     ---------------- ----------------------- 2.9/7.2 MB 1.9 MB/s eta 0:00:03\n",
      "     ---------------- ----------------------- 2.9/7.2 MB 1.9 MB/s eta 0:00:03\n",
      "     ---------------- ----------------------- 2.9/7.2 MB 1.9 MB/s eta 0:00:03\n",
      "     ----------------- ---------------------- 3.2/7.2 MB 1.9 MB/s eta 0:00:03\n",
      "     ------------------ --------------------- 3.3/7.2 MB 1.9 MB/s eta 0:00:02\n",
      "     ------------------ --------------------- 3.4/7.2 MB 1.9 MB/s eta 0:00:02\n",
      "     ------------------- -------------------- 3.4/7.2 MB 1.9 MB/s eta 0:00:02\n",
      "     ------------------- -------------------- 3.5/7.2 MB 1.9 MB/s eta 0:00:02\n",
      "     ------------------- -------------------- 3.5/7.2 MB 1.9 MB/s eta 0:00:02\n",
      "     ------------------- -------------------- 3.5/7.2 MB 1.9 MB/s eta 0:00:02\n",
      "     ------------------- -------------------- 3.5/7.2 MB 1.9 MB/s eta 0:00:02\n",
      "     -------------------- ------------------- 3.7/7.2 MB 1.8 MB/s eta 0:00:02\n",
      "     -------------------- ------------------- 3.7/7.2 MB 1.8 MB/s eta 0:00:02\n",
      "     -------------------- ------------------- 3.7/7.2 MB 1.8 MB/s eta 0:00:02\n",
      "     -------------------- ------------------- 3.7/7.2 MB 1.8 MB/s eta 0:00:02\n",
      "     -------------------- ------------------- 3.7/7.2 MB 1.7 MB/s eta 0:00:03\n",
      "     --------------------- ------------------ 3.8/7.2 MB 1.7 MB/s eta 0:00:02\n",
      "     --------------------- ------------------ 3.8/7.2 MB 1.7 MB/s eta 0:00:02\n",
      "     --------------------- ------------------ 3.8/7.2 MB 1.7 MB/s eta 0:00:02\n",
      "     --------------------- ------------------ 3.8/7.2 MB 1.6 MB/s eta 0:00:03\n",
      "     --------------------- ------------------ 3.8/7.2 MB 1.6 MB/s eta 0:00:03\n",
      "     --------------------- ------------------ 3.8/7.2 MB 1.6 MB/s eta 0:00:03\n",
      "     --------------------- ------------------ 3.8/7.2 MB 1.6 MB/s eta 0:00:03\n",
      "     --------------------- ------------------ 3.8/7.2 MB 1.6 MB/s eta 0:00:03\n",
      "     --------------------- ------------------ 3.8/7.2 MB 1.6 MB/s eta 0:00:03\n",
      "     --------------------- ------------------ 3.8/7.2 MB 1.6 MB/s eta 0:00:03\n",
      "     --------------------- ------------------ 3.8/7.2 MB 1.6 MB/s eta 0:00:03\n",
      "     --------------------- ------------------ 3.9/7.2 MB 1.4 MB/s eta 0:00:03\n",
      "     ----------------------- ---------------- 4.2/7.2 MB 1.5 MB/s eta 0:00:02\n",
      "     ----------------------- ---------------- 4.2/7.2 MB 1.5 MB/s eta 0:00:02\n",
      "     ----------------------- ---------------- 4.2/7.2 MB 1.5 MB/s eta 0:00:03\n",
      "     ----------------------- ---------------- 4.3/7.2 MB 1.4 MB/s eta 0:00:03\n",
      "     ----------------------- ---------------- 4.3/7.2 MB 1.4 MB/s eta 0:00:03\n",
      "     ----------------------- ---------------- 4.3/7.2 MB 1.4 MB/s eta 0:00:03\n",
      "     ------------------------ --------------- 4.4/7.2 MB 1.4 MB/s eta 0:00:02\n",
      "     -------------------------- ------------- 4.8/7.2 MB 1.5 MB/s eta 0:00:02\n",
      "     --------------------------- ------------ 4.9/7.2 MB 1.6 MB/s eta 0:00:02\n",
      "     --------------------------- ------------ 4.9/7.2 MB 1.6 MB/s eta 0:00:02\n",
      "     --------------------------- ------------ 4.9/7.2 MB 1.6 MB/s eta 0:00:02\n",
      "     --------------------------- ------------ 5.0/7.2 MB 1.5 MB/s eta 0:00:02\n",
      "     --------------------------- ------------ 5.0/7.2 MB 1.5 MB/s eta 0:00:02\n",
      "     --------------------------- ------------ 5.0/7.2 MB 1.5 MB/s eta 0:00:02\n",
      "     --------------------------- ------------ 5.0/7.2 MB 1.4 MB/s eta 0:00:02\n",
      "     --------------------------- ------------ 5.0/7.2 MB 1.4 MB/s eta 0:00:02\n",
      "     --------------------------- ------------ 5.0/7.2 MB 1.4 MB/s eta 0:00:02\n",
      "     --------------------------- ------------ 5.0/7.2 MB 1.4 MB/s eta 0:00:02\n",
      "     ---------------------------- ----------- 5.0/7.2 MB 1.4 MB/s eta 0:00:02\n",
      "     ---------------------------- ----------- 5.0/7.2 MB 1.4 MB/s eta 0:00:02\n",
      "     ----------------------------- ---------- 5.2/7.2 MB 1.4 MB/s eta 0:00:02\n",
      "     ----------------------------- ---------- 5.3/7.2 MB 1.4 MB/s eta 0:00:02\n",
      "     ----------------------------- ---------- 5.3/7.2 MB 1.4 MB/s eta 0:00:02\n",
      "     ----------------------------- ---------- 5.3/7.2 MB 1.4 MB/s eta 0:00:02\n",
      "     ----------------------------- ---------- 5.3/7.2 MB 1.4 MB/s eta 0:00:02\n",
      "     ----------------------------- ---------- 5.3/7.2 MB 1.4 MB/s eta 0:00:02\n",
      "     ----------------------------- ---------- 5.4/7.2 MB 1.3 MB/s eta 0:00:02\n",
      "     ----------------------------- ---------- 5.4/7.2 MB 1.3 MB/s eta 0:00:02\n",
      "     ----------------------------- ---------- 5.4/7.2 MB 1.3 MB/s eta 0:00:02\n",
      "     ------------------------------ --------- 5.4/7.2 MB 1.3 MB/s eta 0:00:02\n",
      "     ------------------------------ --------- 5.5/7.2 MB 1.3 MB/s eta 0:00:02\n",
      "     ------------------------------ --------- 5.5/7.2 MB 1.3 MB/s eta 0:00:02\n",
      "     ------------------------------- -------- 5.6/7.2 MB 1.3 MB/s eta 0:00:02\n",
      "     ------------------------------- -------- 5.6/7.2 MB 1.3 MB/s eta 0:00:02\n",
      "     ------------------------------- -------- 5.6/7.2 MB 1.3 MB/s eta 0:00:02\n",
      "     ------------------------------- -------- 5.7/7.2 MB 1.3 MB/s eta 0:00:02\n",
      "     ------------------------------- -------- 5.7/7.2 MB 1.3 MB/s eta 0:00:02\n",
      "     -------------------------------- ------- 5.8/7.2 MB 1.3 MB/s eta 0:00:02\n",
      "     -------------------------------- ------- 5.8/7.2 MB 1.3 MB/s eta 0:00:02\n",
      "     -------------------------------- ------- 5.9/7.2 MB 1.3 MB/s eta 0:00:01\n",
      "     --------------------------------- ------ 5.9/7.2 MB 1.3 MB/s eta 0:00:01\n",
      "     --------------------------------- ------ 6.0/7.2 MB 1.3 MB/s eta 0:00:01\n",
      "     --------------------------------- ------ 6.1/7.2 MB 1.3 MB/s eta 0:00:01\n",
      "     ---------------------------------- ----- 6.1/7.2 MB 1.3 MB/s eta 0:00:01\n",
      "     ----------------------------------- ---- 6.4/7.2 MB 1.3 MB/s eta 0:00:01\n",
      "     ------------------------------------- -- 6.7/7.2 MB 1.4 MB/s eta 0:00:01\n",
      "     ------------------------------------- -- 6.7/7.2 MB 1.4 MB/s eta 0:00:01\n",
      "     ------------------------------------- -- 6.7/7.2 MB 1.4 MB/s eta 0:00:01\n",
      "     ------------------------------------- -- 6.7/7.2 MB 1.4 MB/s eta 0:00:01\n",
      "     ---------------------------------------  7.0/7.2 MB 1.4 MB/s eta 0:00:01\n",
      "     ---------------------------------------  7.1/7.2 MB 1.4 MB/s eta 0:00:01\n",
      "     ---------------------------------------  7.1/7.2 MB 1.4 MB/s eta 0:00:01\n",
      "     ---------------------------------------- 7.2/7.2 MB 1.4 MB/s eta 0:00:00\n",
      "  Installing build dependencies: started\n",
      "  Installing build dependencies: still running...\n",
      "  Installing build dependencies: finished with status 'error'\n"
     ]
    },
    {
     "name": "stderr",
     "output_type": "stream",
     "text": [
      "  error: subprocess-exited-with-error\n",
      "  \n",
      "  pip subprocess to install build dependencies did not run successfully.\n",
      "  exit code: 1\n",
      "  \n",
      "  [386 lines of output]\n",
      "  Ignoring numpy: markers 'python_version == \"3.6\" and platform_system != \"AIX\" and platform_python_implementation == \"CPython\"' don't match your environment\n",
      "  Ignoring numpy: markers 'python_version == \"3.6\" and platform_system != \"AIX\" and platform_python_implementation != \"CPython\"' don't match your environment\n",
      "  Ignoring numpy: markers 'python_version == \"3.7\" and platform_system != \"AIX\"' don't match your environment\n",
      "  Ignoring numpy: markers 'python_version == \"3.6\" and platform_system == \"AIX\"' don't match your environment\n",
      "  Ignoring numpy: markers 'python_version == \"3.7\" and platform_system == \"AIX\"' don't match your environment\n",
      "  Ignoring numpy: markers 'python_version >= \"3.8\" and platform_system == \"AIX\"' don't match your environment\n",
      "  Collecting setuptools\n",
      "    Obtaining dependency information for setuptools from https://files.pythonhosted.org/packages/c7/42/be1c7bbdd83e1bfb160c94b9cafd8e25efc7400346cf7ccdbdb452c467fa/setuptools-68.0.0-py3-none-any.whl.metadata\n",
      "    Downloading setuptools-68.0.0-py3-none-any.whl.metadata (6.4 kB)\n",
      "  Collecting wheel\n",
      "    Obtaining dependency information for wheel from https://files.pythonhosted.org/packages/28/f5/6955d7b3a5d71ce6bac104f9cf98c1b0513ad656cdaca8ea7d579196f771/wheel-0.41.1-py3-none-any.whl.metadata\n",
      "    Downloading wheel-0.41.1-py3-none-any.whl.metadata (2.2 kB)\n",
      "  Collecting Cython>=0.28.5\n",
      "    Obtaining dependency information for Cython>=0.28.5 from https://files.pythonhosted.org/packages/7d/61/bf165c17a1296fd7db78e18fd8cbb157ab04060ec58d34ff319424af3e2d/Cython-3.0.0-cp311-cp311-win_amd64.whl.metadata\n",
      "    Downloading Cython-3.0.0-cp311-cp311-win_amd64.whl.metadata (3.2 kB)\n",
      "  Collecting numpy==1.17.3\n",
      "    Downloading numpy-1.17.3.zip (6.4 MB)\n",
      "       ---------------------------------------- 0.0/6.4 MB ? eta -:--:--\n",
      "       ---------------------------------------- 0.0/6.4 MB 660.6 kB/s eta 0:00:10\n",
      "       ---------------------------------------- 0.0/6.4 MB 660.6 kB/s eta 0:00:10\n",
      "       ---------------------------------------- 0.1/6.4 MB 393.8 kB/s eta 0:00:16\n",
      "        --------------------------------------- 0.1/6.4 MB 504.4 kB/s eta 0:00:13\n",
      "        --------------------------------------- 0.2/6.4 MB 510.2 kB/s eta 0:00:13\n",
      "       - -------------------------------------- 0.2/6.4 MB 686.8 kB/s eta 0:00:09\n",
      "       - -------------------------------------- 0.3/6.4 MB 655.8 kB/s eta 0:00:10\n",
      "       -- ------------------------------------- 0.4/6.4 MB 768.6 kB/s eta 0:00:08\n",
      "       -- ------------------------------------- 0.4/6.4 MB 713.5 kB/s eta 0:00:09\n",
      "       -- ------------------------------------- 0.5/6.4 MB 758.5 kB/s eta 0:00:08\n",
      "       --- ------------------------------------ 0.6/6.4 MB 976.0 kB/s eta 0:00:06\n",
      "       ---- ----------------------------------- 0.8/6.4 MB 1.1 MB/s eta 0:00:06\n",
      "       ------- -------------------------------- 1.2/6.4 MB 1.5 MB/s eta 0:00:04\n",
      "       ------- -------------------------------- 1.2/6.4 MB 1.5 MB/s eta 0:00:04\n",
      "       --------- ------------------------------ 1.6/6.4 MB 1.8 MB/s eta 0:00:03\n",
      "       ----------- ---------------------------- 1.9/6.4 MB 2.0 MB/s eta 0:00:03\n",
      "       ----------- ---------------------------- 1.9/6.4 MB 2.0 MB/s eta 0:00:03\n",
      "       ----------- ---------------------------- 1.9/6.4 MB 2.0 MB/s eta 0:00:03\n",
      "       ------------ --------------------------- 1.9/6.4 MB 1.8 MB/s eta 0:00:03\n",
      "       ------------ --------------------------- 1.9/6.4 MB 1.8 MB/s eta 0:00:03\n",
      "       ------------ --------------------------- 1.9/6.4 MB 1.8 MB/s eta 0:00:03\n",
      "       ------------ --------------------------- 2.0/6.4 MB 1.7 MB/s eta 0:00:03\n",
      "       -------------- ------------------------- 2.2/6.4 MB 1.8 MB/s eta 0:00:03\n",
      "       --------------- ------------------------ 2.4/6.4 MB 1.8 MB/s eta 0:00:03\n",
      "       --------------- ------------------------ 2.4/6.4 MB 1.9 MB/s eta 0:00:03\n",
      "       --------------- ------------------------ 2.4/6.4 MB 1.9 MB/s eta 0:00:03\n",
      "       --------------- ------------------------ 2.4/6.4 MB 1.9 MB/s eta 0:00:03\n",
      "       ----------------- ---------------------- 2.8/6.4 MB 1.8 MB/s eta 0:00:02\n",
      "       ----------------- ---------------------- 2.8/6.4 MB 1.8 MB/s eta 0:00:02\n",
      "       ------------------- -------------------- 3.1/6.4 MB 1.8 MB/s eta 0:00:02\n",
      "       ------------------- -------------------- 3.1/6.4 MB 1.8 MB/s eta 0:00:02\n",
      "       ------------------- -------------------- 3.1/6.4 MB 1.8 MB/s eta 0:00:02\n",
      "       ---------------------- ----------------- 3.7/6.4 MB 2.0 MB/s eta 0:00:02\n",
      "       ---------------------- ----------------- 3.7/6.4 MB 2.0 MB/s eta 0:00:02\n",
      "       ---------------------- ----------------- 3.7/6.4 MB 2.0 MB/s eta 0:00:02\n",
      "       ---------------------- ----------------- 3.7/6.4 MB 2.0 MB/s eta 0:00:02\n",
      "       ----------------------- ---------------- 3.8/6.4 MB 1.9 MB/s eta 0:00:02\n",
      "       ------------------------- -------------- 4.0/6.4 MB 2.0 MB/s eta 0:00:02\n",
      "       -------------------------- ------------- 4.2/6.4 MB 2.0 MB/s eta 0:00:02\n",
      "       -------------------------- ------------- 4.2/6.4 MB 2.0 MB/s eta 0:00:02\n",
      "       -------------------------- ------------- 4.3/6.4 MB 2.0 MB/s eta 0:00:02\n",
      "       -------------------------- ------------- 4.3/6.4 MB 2.0 MB/s eta 0:00:02\n",
      "       --------------------------- ------------ 4.4/6.4 MB 1.9 MB/s eta 0:00:02\n",
      "       --------------------------- ------------ 4.4/6.4 MB 1.9 MB/s eta 0:00:02\n",
      "       --------------------------- ------------ 4.4/6.4 MB 1.9 MB/s eta 0:00:02\n",
      "       --------------------------- ------------ 4.4/6.4 MB 1.9 MB/s eta 0:00:02\n",
      "       ---------------------------- ----------- 4.5/6.4 MB 1.8 MB/s eta 0:00:02\n",
      "       ---------------------------- ----------- 4.6/6.4 MB 1.8 MB/s eta 0:00:02\n",
      "       ---------------------------- ----------- 4.6/6.4 MB 1.8 MB/s eta 0:00:02\n",
      "       ---------------------------- ----------- 4.6/6.4 MB 1.8 MB/s eta 0:00:02\n",
      "       ---------------------------- ----------- 4.6/6.4 MB 1.8 MB/s eta 0:00:02\n",
      "       ---------------------------- ----------- 4.6/6.4 MB 1.7 MB/s eta 0:00:02\n",
      "       ---------------------------- ----------- 4.6/6.4 MB 1.7 MB/s eta 0:00:02\n",
      "       ---------------------------- ----------- 4.6/6.4 MB 1.7 MB/s eta 0:00:02\n",
      "       ----------------------------- ---------- 4.7/6.4 MB 1.6 MB/s eta 0:00:02\n",
      "       ------------------------------- -------- 5.0/6.4 MB 1.7 MB/s eta 0:00:01\n",
      "       -------------------------------- ------- 5.1/6.4 MB 1.7 MB/s eta 0:00:01\n",
      "       -------------------------------- ------- 5.1/6.4 MB 1.7 MB/s eta 0:00:01\n",
      "       --------------------------------- ------ 5.3/6.4 MB 1.7 MB/s eta 0:00:01\n",
      "       --------------------------------- ------ 5.3/6.4 MB 1.7 MB/s eta 0:00:01\n",
      "       --------------------------------- ------ 5.3/6.4 MB 1.7 MB/s eta 0:00:01\n",
      "       ---------------------------------- ----- 5.4/6.4 MB 1.7 MB/s eta 0:00:01\n",
      "       ---------------------------------- ----- 5.5/6.4 MB 1.6 MB/s eta 0:00:01\n",
      "       ---------------------------------- ----- 5.5/6.4 MB 1.6 MB/s eta 0:00:01\n",
      "       ----------------------------------- ---- 5.7/6.4 MB 1.7 MB/s eta 0:00:01\n",
      "       ------------------------------------ --- 5.8/6.4 MB 1.7 MB/s eta 0:00:01\n",
      "       ------------------------------------ --- 5.8/6.4 MB 1.7 MB/s eta 0:00:01\n",
      "       ------------------------------------ --- 5.8/6.4 MB 1.7 MB/s eta 0:00:01\n",
      "       ------------------------------------- -- 6.0/6.4 MB 1.7 MB/s eta 0:00:01\n",
      "       -------------------------------------- - 6.1/6.4 MB 1.7 MB/s eta 0:00:01\n",
      "       ---------------------------------------  6.3/6.4 MB 1.7 MB/s eta 0:00:01\n",
      "       ---------------------------------------  6.4/6.4 MB 1.7 MB/s eta 0:00:01\n",
      "       ---------------------------------------  6.4/6.4 MB 1.7 MB/s eta 0:00:01\n",
      "       ---------------------------------------  6.4/6.4 MB 1.7 MB/s eta 0:00:01\n",
      "       ---------------------------------------  6.4/6.4 MB 1.7 MB/s eta 0:00:01\n",
      "       ---------------------------------------  6.4/6.4 MB 1.7 MB/s eta 0:00:01\n",
      "       ---------------------------------------- 6.4/6.4 MB 1.6 MB/s eta 0:00:00\n",
      "    Installing build dependencies: started\n",
      "    Installing build dependencies: finished with status 'done'\n",
      "    Getting requirements to build wheel: started\n",
      "    Getting requirements to build wheel: finished with status 'done'\n",
      "    Preparing metadata (pyproject.toml): started\n",
      "    Preparing metadata (pyproject.toml): finished with status 'error'\n",
      "    error: subprocess-exited-with-error\n",
      "  \n",
      "    Preparing metadata (pyproject.toml) did not run successfully.\n",
      "    exit code: 1\n",
      "  \n",
      "    [265 lines of output]\n",
      "    Running from numpy source directory.\n",
      "    <string>:418: UserWarning: Unrecognized setuptools command, proceeding with generating Cython sources and expanding templates\n",
      "    blas_opt_info:\n",
      "    blas_mkl_info:\n",
      "    No module named 'numpy.distutils._msvccompiler' in numpy.distutils; trying from distutils\n",
      "    customize MSVCCompiler\n",
      "      libraries mkl_rt not found in ['C:\\\\Users\\\\ayman\\\\AppData\\\\Local\\\\Programs\\\\Python\\\\Python311\\\\lib', 'C:\\\\', 'C:\\\\Users\\\\ayman\\\\AppData\\\\Local\\\\Programs\\\\Python\\\\Python311\\\\libs']\n",
      "      NOT AVAILABLE\n",
      "  \n",
      "    blis_info:\n",
      "    No module named 'numpy.distutils._msvccompiler' in numpy.distutils; trying from distutils\n",
      "    customize MSVCCompiler\n",
      "      libraries blis not found in ['C:\\\\Users\\\\ayman\\\\AppData\\\\Local\\\\Programs\\\\Python\\\\Python311\\\\lib', 'C:\\\\', 'C:\\\\Users\\\\ayman\\\\AppData\\\\Local\\\\Programs\\\\Python\\\\Python311\\\\libs']\n",
      "      NOT AVAILABLE\n",
      "  \n",
      "    openblas_info:\n",
      "    No module named 'numpy.distutils._msvccompiler' in numpy.distutils; trying from distutils\n",
      "    customize MSVCCompiler\n",
      "    No module named 'numpy.distutils._msvccompiler' in numpy.distutils; trying from distutils\n",
      "    customize MSVCCompiler\n",
      "      libraries openblas not found in ['C:\\\\Users\\\\ayman\\\\AppData\\\\Local\\\\Programs\\\\Python\\\\Python311\\\\lib', 'C:\\\\', 'C:\\\\Users\\\\ayman\\\\AppData\\\\Local\\\\Programs\\\\Python\\\\Python311\\\\libs']\n",
      "    get_default_fcompiler: matching types: '['gnu', 'intelv', 'absoft', 'compaqv', 'intelev', 'gnu95', 'g95', 'intelvem', 'intelem', 'flang']'\n",
      "    customize GnuFCompiler\n",
      "    Could not locate executable g77\n",
      "    Could not locate executable f77\n",
      "    customize IntelVisualFCompiler\n",
      "    Could not locate executable ifort\n",
      "    Could not locate executable ifl\n",
      "    customize AbsoftFCompiler\n",
      "    Could not locate executable f90\n",
      "    customize CompaqVisualFCompiler\n",
      "    Found executable C:\\Program Files\\Git\\usr\\bin\\DF.exe\n",
      "    Could not locate executable C:\\Program\n",
      "    customize IntelItaniumVisualFCompiler\n",
      "    Could not locate executable efl\n",
      "    customize Gnu95FCompiler\n",
      "    Could not locate executable gfortran\n",
      "    Could not locate executable f95\n",
      "    customize G95FCompiler\n",
      "    Could not locate executable g95\n",
      "    customize IntelEM64VisualFCompiler\n",
      "    customize IntelEM64TFCompiler\n",
      "    Could not locate executable efort\n",
      "    Could not locate executable efc\n",
      "    customize PGroupFlangCompiler\n",
      "    Could not locate executable flang\n",
      "    don't know how to compile Fortran code on platform 'nt'\n",
      "      NOT AVAILABLE\n",
      "  \n",
      "    atlas_3_10_blas_threads_info:\n",
      "    Setting PTATLAS=ATLAS\n",
      "    No module named 'numpy.distutils._msvccompiler' in numpy.distutils; trying from distutils\n",
      "    customize MSVCCompiler\n",
      "      libraries tatlas not found in ['C:\\\\Users\\\\ayman\\\\AppData\\\\Local\\\\Programs\\\\Python\\\\Python311\\\\lib', 'C:\\\\', 'C:\\\\Users\\\\ayman\\\\AppData\\\\Local\\\\Programs\\\\Python\\\\Python311\\\\libs']\n",
      "      NOT AVAILABLE\n",
      "  \n",
      "    atlas_3_10_blas_info:\n",
      "    No module named 'numpy.distutils._msvccompiler' in numpy.distutils; trying from distutils\n",
      "    customize MSVCCompiler\n",
      "      libraries satlas not found in ['C:\\\\Users\\\\ayman\\\\AppData\\\\Local\\\\Programs\\\\Python\\\\Python311\\\\lib', 'C:\\\\', 'C:\\\\Users\\\\ayman\\\\AppData\\\\Local\\\\Programs\\\\Python\\\\Python311\\\\libs']\n",
      "      NOT AVAILABLE\n",
      "  \n",
      "    atlas_blas_threads_info:\n",
      "    Setting PTATLAS=ATLAS\n",
      "    No module named 'numpy.distutils._msvccompiler' in numpy.distutils; trying from distutils\n",
      "    customize MSVCCompiler\n",
      "      libraries ptf77blas,ptcblas,atlas not found in ['C:\\\\Users\\\\ayman\\\\AppData\\\\Local\\\\Programs\\\\Python\\\\Python311\\\\lib', 'C:\\\\', 'C:\\\\Users\\\\ayman\\\\AppData\\\\Local\\\\Programs\\\\Python\\\\Python311\\\\libs']\n",
      "      NOT AVAILABLE\n",
      "  \n",
      "    atlas_blas_info:\n",
      "    No module named 'numpy.distutils._msvccompiler' in numpy.distutils; trying from distutils\n",
      "    customize MSVCCompiler\n",
      "      libraries f77blas,cblas,atlas not found in ['C:\\\\Users\\\\ayman\\\\AppData\\\\Local\\\\Programs\\\\Python\\\\Python311\\\\lib', 'C:\\\\', 'C:\\\\Users\\\\ayman\\\\AppData\\\\Local\\\\Programs\\\\Python\\\\Python311\\\\libs']\n",
      "      NOT AVAILABLE\n",
      "  \n",
      "    accelerate_info:\n",
      "      NOT AVAILABLE\n",
      "  \n",
      "    C:\\Users\\ayman\\AppData\\Local\\Temp\\pip-install-8zuitkj3\\numpy_c03856ba454e41a5bce28d27dd26c631\\numpy\\distutils\\system_info.py:690: UserWarning:\n",
      "        Optimized (vendor) Blas libraries are not found.\n",
      "        Falls back to netlib Blas library which has worse performance.\n",
      "        A better performance should be easily gained by switching\n",
      "        Blas library.\n",
      "      self.calc_info()\n",
      "    blas_info:\n",
      "    No module named 'numpy.distutils._msvccompiler' in numpy.distutils; trying from distutils\n",
      "    customize MSVCCompiler\n",
      "      libraries blas not found in ['C:\\\\Users\\\\ayman\\\\AppData\\\\Local\\\\Programs\\\\Python\\\\Python311\\\\lib', 'C:\\\\', 'C:\\\\Users\\\\ayman\\\\AppData\\\\Local\\\\Programs\\\\Python\\\\Python311\\\\libs']\n",
      "      NOT AVAILABLE\n",
      "  \n",
      "    C:\\Users\\ayman\\AppData\\Local\\Temp\\pip-install-8zuitkj3\\numpy_c03856ba454e41a5bce28d27dd26c631\\numpy\\distutils\\system_info.py:690: UserWarning:\n",
      "        Blas (http://www.netlib.org/blas/) libraries not found.\n",
      "        Directories to search for the libraries can be specified in the\n",
      "        numpy/distutils/site.cfg file (section [blas]) or by setting\n",
      "        the BLAS environment variable.\n",
      "      self.calc_info()\n",
      "    blas_src_info:\n",
      "      NOT AVAILABLE\n",
      "  \n",
      "    C:\\Users\\ayman\\AppData\\Local\\Temp\\pip-install-8zuitkj3\\numpy_c03856ba454e41a5bce28d27dd26c631\\numpy\\distutils\\system_info.py:690: UserWarning:\n",
      "        Blas (http://www.netlib.org/blas/) sources not found.\n",
      "        Directories to search for the sources can be specified in the\n",
      "        numpy/distutils/site.cfg file (section [blas_src]) or by setting\n",
      "        the BLAS_SRC environment variable.\n",
      "      self.calc_info()\n",
      "      NOT AVAILABLE\n",
      "  \n",
      "    'svnversion' is not recognized as an internal or external command,\n",
      "    operable program or batch file.\n",
      "    non-existing path in 'numpy\\\\distutils': 'site.cfg'\n",
      "    lapack_opt_info:\n",
      "    lapack_mkl_info:\n",
      "    No module named 'numpy.distutils._msvccompiler' in numpy.distutils; trying from distutils\n",
      "    customize MSVCCompiler\n",
      "      libraries mkl_rt not found in ['C:\\\\Users\\\\ayman\\\\AppData\\\\Local\\\\Programs\\\\Python\\\\Python311\\\\lib', 'C:\\\\', 'C:\\\\Users\\\\ayman\\\\AppData\\\\Local\\\\Programs\\\\Python\\\\Python311\\\\libs']\n",
      "      NOT AVAILABLE\n",
      "  \n",
      "    openblas_lapack_info:\n",
      "    No module named 'numpy.distutils._msvccompiler' in numpy.distutils; trying from distutils\n",
      "    customize MSVCCompiler\n",
      "    No module named 'numpy.distutils._msvccompiler' in numpy.distutils; trying from distutils\n",
      "    customize MSVCCompiler\n",
      "      libraries openblas not found in ['C:\\\\Users\\\\ayman\\\\AppData\\\\Local\\\\Programs\\\\Python\\\\Python311\\\\lib', 'C:\\\\', 'C:\\\\Users\\\\ayman\\\\AppData\\\\Local\\\\Programs\\\\Python\\\\Python311\\\\libs']\n",
      "      NOT AVAILABLE\n",
      "  \n",
      "    openblas_clapack_info:\n",
      "    No module named 'numpy.distutils._msvccompiler' in numpy.distutils; trying from distutils\n",
      "    customize MSVCCompiler\n",
      "    No module named 'numpy.distutils._msvccompiler' in numpy.distutils; trying from distutils\n",
      "    customize MSVCCompiler\n",
      "      libraries openblas,lapack not found in ['C:\\\\Users\\\\ayman\\\\AppData\\\\Local\\\\Programs\\\\Python\\\\Python311\\\\lib', 'C:\\\\', 'C:\\\\Users\\\\ayman\\\\AppData\\\\Local\\\\Programs\\\\Python\\\\Python311\\\\libs']\n",
      "      NOT AVAILABLE\n",
      "  \n",
      "    flame_info:\n",
      "    No module named 'numpy.distutils._msvccompiler' in numpy.distutils; trying from distutils\n",
      "    customize MSVCCompiler\n",
      "      libraries flame not found in ['C:\\\\Users\\\\ayman\\\\AppData\\\\Local\\\\Programs\\\\Python\\\\Python311\\\\lib', 'C:\\\\', 'C:\\\\Users\\\\ayman\\\\AppData\\\\Local\\\\Programs\\\\Python\\\\Python311\\\\libs']\n",
      "      NOT AVAILABLE\n",
      "  \n",
      "    atlas_3_10_threads_info:\n",
      "    Setting PTATLAS=ATLAS\n",
      "    No module named 'numpy.distutils._msvccompiler' in numpy.distutils; trying from distutils\n",
      "    customize MSVCCompiler\n",
      "      libraries lapack_atlas not found in C:\\Users\\ayman\\AppData\\Local\\Programs\\Python\\Python311\\lib\n",
      "    No module named 'numpy.distutils._msvccompiler' in numpy.distutils; trying from distutils\n",
      "    customize MSVCCompiler\n",
      "      libraries tatlas,tatlas not found in C:\\Users\\ayman\\AppData\\Local\\Programs\\Python\\Python311\\lib\n",
      "    No module named 'numpy.distutils._msvccompiler' in numpy.distutils; trying from distutils\n",
      "    customize MSVCCompiler\n",
      "      libraries lapack_atlas not found in C:\\\n",
      "    No module named 'numpy.distutils._msvccompiler' in numpy.distutils; trying from distutils\n",
      "    customize MSVCCompiler\n",
      "      libraries tatlas,tatlas not found in C:\\\n",
      "    No module named 'numpy.distutils._msvccompiler' in numpy.distutils; trying from distutils\n",
      "    customize MSVCCompiler\n",
      "      libraries lapack_atlas not found in C:\\Users\\ayman\\AppData\\Local\\Programs\\Python\\Python311\\libs\n",
      "    No module named 'numpy.distutils._msvccompiler' in numpy.distutils; trying from distutils\n",
      "    customize MSVCCompiler\n",
      "      libraries tatlas,tatlas not found in C:\\Users\\ayman\\AppData\\Local\\Programs\\Python\\Python311\\libs\n",
      "    <class 'numpy.distutils.system_info.atlas_3_10_threads_info'>\n",
      "      NOT AVAILABLE\n",
      "  \n",
      "    atlas_3_10_info:\n",
      "    No module named 'numpy.distutils._msvccompiler' in numpy.distutils; trying from distutils\n",
      "    customize MSVCCompiler\n",
      "      libraries lapack_atlas not found in C:\\Users\\ayman\\AppData\\Local\\Programs\\Python\\Python311\\lib\n",
      "    No module named 'numpy.distutils._msvccompiler' in numpy.distutils; trying from distutils\n",
      "    customize MSVCCompiler\n",
      "      libraries satlas,satlas not found in C:\\Users\\ayman\\AppData\\Local\\Programs\\Python\\Python311\\lib\n",
      "    No module named 'numpy.distutils._msvccompiler' in numpy.distutils; trying from distutils\n",
      "    customize MSVCCompiler\n",
      "      libraries lapack_atlas not found in C:\\\n",
      "    No module named 'numpy.distutils._msvccompiler' in numpy.distutils; trying from distutils\n",
      "    customize MSVCCompiler\n",
      "      libraries satlas,satlas not found in C:\\\n",
      "    No module named 'numpy.distutils._msvccompiler' in numpy.distutils; trying from distutils\n",
      "    customize MSVCCompiler\n",
      "      libraries lapack_atlas not found in C:\\Users\\ayman\\AppData\\Local\\Programs\\Python\\Python311\\libs\n",
      "    No module named 'numpy.distutils._msvccompiler' in numpy.distutils; trying from distutils\n",
      "    customize MSVCCompiler\n",
      "      libraries satlas,satlas not found in C:\\Users\\ayman\\AppData\\Local\\Programs\\Python\\Python311\\libs\n",
      "    <class 'numpy.distutils.system_info.atlas_3_10_info'>\n",
      "      NOT AVAILABLE\n",
      "  \n",
      "    atlas_threads_info:\n",
      "    Setting PTATLAS=ATLAS\n",
      "    No module named 'numpy.distutils._msvccompiler' in numpy.distutils; trying from distutils\n",
      "    customize MSVCCompiler\n",
      "      libraries lapack_atlas not found in C:\\Users\\ayman\\AppData\\Local\\Programs\\Python\\Python311\\lib\n",
      "    No module named 'numpy.distutils._msvccompiler' in numpy.distutils; trying from distutils\n",
      "    customize MSVCCompiler\n",
      "      libraries ptf77blas,ptcblas,atlas not found in C:\\Users\\ayman\\AppData\\Local\\Programs\\Python\\Python311\\lib\n",
      "    No module named 'numpy.distutils._msvccompiler' in numpy.distutils; trying from distutils\n",
      "    customize MSVCCompiler\n",
      "      libraries lapack_atlas not found in C:\\\n",
      "    No module named 'numpy.distutils._msvccompiler' in numpy.distutils; trying from distutils\n",
      "    customize MSVCCompiler\n",
      "      libraries ptf77blas,ptcblas,atlas not found in C:\\\n",
      "    No module named 'numpy.distutils._msvccompiler' in numpy.distutils; trying from distutils\n",
      "    customize MSVCCompiler\n",
      "      libraries lapack_atlas not found in C:\\Users\\ayman\\AppData\\Local\\Programs\\Python\\Python311\\libs\n",
      "    No module named 'numpy.distutils._msvccompiler' in numpy.distutils; trying from distutils\n",
      "    customize MSVCCompiler\n",
      "      libraries ptf77blas,ptcblas,atlas not found in C:\\Users\\ayman\\AppData\\Local\\Programs\\Python\\Python311\\libs\n",
      "    <class 'numpy.distutils.system_info.atlas_threads_info'>\n",
      "      NOT AVAILABLE\n",
      "  \n",
      "    atlas_info:\n",
      "    No module named 'numpy.distutils._msvccompiler' in numpy.distutils; trying from distutils\n",
      "    customize MSVCCompiler\n",
      "      libraries lapack_atlas not found in C:\\Users\\ayman\\AppData\\Local\\Programs\\Python\\Python311\\lib\n",
      "    No module named 'numpy.distutils._msvccompiler' in numpy.distutils; trying from distutils\n",
      "    customize MSVCCompiler\n",
      "      libraries f77blas,cblas,atlas not found in C:\\Users\\ayman\\AppData\\Local\\Programs\\Python\\Python311\\lib\n",
      "    No module named 'numpy.distutils._msvccompiler' in numpy.distutils; trying from distutils\n",
      "    customize MSVCCompiler\n",
      "      libraries lapack_atlas not found in C:\\\n",
      "    No module named 'numpy.distutils._msvccompiler' in numpy.distutils; trying from distutils\n",
      "    customize MSVCCompiler\n",
      "      libraries f77blas,cblas,atlas not found in C:\\\n",
      "    No module named 'numpy.distutils._msvccompiler' in numpy.distutils; trying from distutils\n",
      "    customize MSVCCompiler\n",
      "      libraries lapack_atlas not found in C:\\Users\\ayman\\AppData\\Local\\Programs\\Python\\Python311\\libs\n",
      "    No module named 'numpy.distutils._msvccompiler' in numpy.distutils; trying from distutils\n",
      "    customize MSVCCompiler\n",
      "      libraries f77blas,cblas,atlas not found in C:\\Users\\ayman\\AppData\\Local\\Programs\\Python\\Python311\\libs\n",
      "    <class 'numpy.distutils.system_info.atlas_info'>\n",
      "      NOT AVAILABLE\n",
      "  \n",
      "    lapack_info:\n",
      "    No module named 'numpy.distutils._msvccompiler' in numpy.distutils; trying from distutils\n",
      "    customize MSVCCompiler\n",
      "      libraries lapack not found in ['C:\\\\Users\\\\ayman\\\\AppData\\\\Local\\\\Programs\\\\Python\\\\Python311\\\\lib', 'C:\\\\', 'C:\\\\Users\\\\ayman\\\\AppData\\\\Local\\\\Programs\\\\Python\\\\Python311\\\\libs']\n",
      "      NOT AVAILABLE\n",
      "  \n",
      "    C:\\Users\\ayman\\AppData\\Local\\Temp\\pip-install-8zuitkj3\\numpy_c03856ba454e41a5bce28d27dd26c631\\numpy\\distutils\\system_info.py:1712: UserWarning:\n",
      "        Lapack (http://www.netlib.org/lapack/) libraries not found.\n",
      "        Directories to search for the libraries can be specified in the\n",
      "        numpy/distutils/site.cfg file (section [lapack]) or by setting\n",
      "        the LAPACK environment variable.\n",
      "      if getattr(self, '_calc_info_{}'.format(lapack))():\n",
      "    lapack_src_info:\n",
      "      NOT AVAILABLE\n",
      "  \n",
      "    C:\\Users\\ayman\\AppData\\Local\\Temp\\pip-install-8zuitkj3\\numpy_c03856ba454e41a5bce28d27dd26c631\\numpy\\distutils\\system_info.py:1712: UserWarning:\n",
      "        Lapack (http://www.netlib.org/lapack/) sources not found.\n",
      "        Directories to search for the sources can be specified in the\n",
      "        numpy/distutils/site.cfg file (section [lapack_src]) or by setting\n",
      "        the LAPACK_SRC environment variable.\n",
      "      if getattr(self, '_calc_info_{}'.format(lapack))():\n",
      "      NOT AVAILABLE\n",
      "  \n",
      "    C:\\Users\\ayman\\AppData\\Local\\Temp\\pip-build-env-y541f4g0\\overlay\\Lib\\site-packages\\setuptools\\_distutils\\dist.py:265: UserWarning: Unknown distribution option: 'define_macros'\n",
      "      warnings.warn(msg)\n",
      "    running dist_info\n",
      "    running build_src\n",
      "    build_src\n",
      "    building py_modules sources\n",
      "    creating build\n",
      "    creating build\\src.win-amd64-3.1\n",
      "    creating build\\src.win-amd64-3.1\\numpy\n",
      "    creating build\\src.win-amd64-3.1\\numpy\\distutils\n",
      "    building library \"npymath\" sources\n",
      "    No module named 'numpy.distutils._msvccompiler' in numpy.distutils; trying from distutils\n",
      "    error: Microsoft Visual C++ 14.0 or greater is required. Get it with \"Microsoft C++ Build Tools\": https://visualstudio.microsoft.com/visual-cpp-build-tools/\n",
      "    [end of output]\n",
      "  \n",
      "    note: This error originates from a subprocess, and is likely not a problem with pip.\n",
      "  error: metadata-generation-failed\n",
      "  \n",
      "  Encountered error while generating package metadata.\n",
      "  \n",
      "  See above for output.\n",
      "  \n",
      "  note: This is an issue with the package mentioned above, not pip.\n",
      "  hint: See above for details.\n",
      "  \n",
      "  [notice] A new release of pip is available: 23.2 -> 23.2.1\n",
      "  [notice] To update, run: python.exe -m pip install --upgrade pip\n",
      "  [end of output]\n",
      "  \n",
      "  note: This error originates from a subprocess, and is likely not a problem with pip.\n",
      "error: subprocess-exited-with-error\n",
      "\n",
      "pip subprocess to install build dependencies did not run successfully.\n",
      "exit code: 1\n",
      "\n",
      "See above for output.\n",
      "\n",
      "note: This error originates from a subprocess, and is likely not a problem with pip.\n",
      "\n",
      "[notice] A new release of pip is available: 23.2 -> 23.2.1\n",
      "[notice] To update, run: python.exe -m pip install --upgrade pip\n"
     ]
    }
   ],
   "source": [
    "!pip install scikit-learn==0.23.1"
   ]
  },
  {
   "cell_type": "markdown",
   "metadata": {
    "button": false,
    "new_sheet": false,
    "run_control": {
     "read_only": false
    }
   },
   "source": [
    "Let's load required libraries\n"
   ]
  },
  {
   "cell_type": "code",
   "execution_count": 2,
   "metadata": {
    "button": false,
    "new_sheet": false,
    "run_control": {
     "read_only": false
    }
   },
   "outputs": [],
   "source": [
    "import numpy as np\n",
    "import matplotlib.pyplot as plt\n",
    "import pandas as pd\n",
    "import numpy as np\n",
    "from sklearn import preprocessing\n",
    "%matplotlib inline"
   ]
  },
  {
   "cell_type": "markdown",
   "metadata": {
    "button": false,
    "new_sheet": false,
    "run_control": {
     "read_only": false
    }
   },
   "source": [
    "<div id=\"about_dataset\">\n",
    "    <h2>About the dataset</h2>\n",
    "</div>\n"
   ]
  },
  {
   "cell_type": "markdown",
   "metadata": {
    "button": false,
    "new_sheet": false,
    "run_control": {
     "read_only": false
    }
   },
   "source": [
    "Imagine a telecommunications provider has segmented its customer base by service usage patterns, categorizing the customers into four groups. If demographic data can be used to predict group membership, the company can customize offers for individual prospective customers. It is a classification problem. That is, given the dataset,  with predefined labels, we need to build a model to be used to predict class of a new or unknown case.\n",
    "\n",
    "The example focuses on using demographic data, such as region, age, and marital, to predict usage patterns.\n",
    "\n",
    "The target field, called **custcat**, has four possible values that correspond to the four customer groups, as follows:\n",
    "1- Basic Service\n",
    "2- E-Service\n",
    "3- Plus Service\n",
    "4- Total Service\n",
    "\n",
    "Our objective is to build a classifier, to predict the class of unknown cases. We will use a specific type of classification called K nearest neighbour.\n"
   ]
  },
  {
   "cell_type": "markdown",
   "metadata": {
    "button": false,
    "new_sheet": false,
    "run_control": {
     "read_only": false
    }
   },
   "source": [
    "### Load Data \n"
   ]
  },
  {
   "cell_type": "markdown",
   "metadata": {},
   "source": [
    "Let's read the data using pandas library and print the first five rows.\n"
   ]
  },
  {
   "cell_type": "code",
   "execution_count": 3,
   "metadata": {
    "button": false,
    "new_sheet": false,
    "run_control": {
     "read_only": false
    }
   },
   "outputs": [
    {
     "data": {
      "text/html": [
       "<div>\n",
       "<style scoped>\n",
       "    .dataframe tbody tr th:only-of-type {\n",
       "        vertical-align: middle;\n",
       "    }\n",
       "\n",
       "    .dataframe tbody tr th {\n",
       "        vertical-align: top;\n",
       "    }\n",
       "\n",
       "    .dataframe thead th {\n",
       "        text-align: right;\n",
       "    }\n",
       "</style>\n",
       "<table border=\"1\" class=\"dataframe\">\n",
       "  <thead>\n",
       "    <tr style=\"text-align: right;\">\n",
       "      <th></th>\n",
       "      <th>region</th>\n",
       "      <th>tenure</th>\n",
       "      <th>age</th>\n",
       "      <th>marital</th>\n",
       "      <th>address</th>\n",
       "      <th>income</th>\n",
       "      <th>ed</th>\n",
       "      <th>employ</th>\n",
       "      <th>retire</th>\n",
       "      <th>gender</th>\n",
       "      <th>reside</th>\n",
       "      <th>custcat</th>\n",
       "    </tr>\n",
       "  </thead>\n",
       "  <tbody>\n",
       "    <tr>\n",
       "      <th>0</th>\n",
       "      <td>2</td>\n",
       "      <td>13</td>\n",
       "      <td>44</td>\n",
       "      <td>1</td>\n",
       "      <td>9</td>\n",
       "      <td>64.0</td>\n",
       "      <td>4</td>\n",
       "      <td>5</td>\n",
       "      <td>0.0</td>\n",
       "      <td>0</td>\n",
       "      <td>2</td>\n",
       "      <td>1</td>\n",
       "    </tr>\n",
       "    <tr>\n",
       "      <th>1</th>\n",
       "      <td>3</td>\n",
       "      <td>11</td>\n",
       "      <td>33</td>\n",
       "      <td>1</td>\n",
       "      <td>7</td>\n",
       "      <td>136.0</td>\n",
       "      <td>5</td>\n",
       "      <td>5</td>\n",
       "      <td>0.0</td>\n",
       "      <td>0</td>\n",
       "      <td>6</td>\n",
       "      <td>4</td>\n",
       "    </tr>\n",
       "    <tr>\n",
       "      <th>2</th>\n",
       "      <td>3</td>\n",
       "      <td>68</td>\n",
       "      <td>52</td>\n",
       "      <td>1</td>\n",
       "      <td>24</td>\n",
       "      <td>116.0</td>\n",
       "      <td>1</td>\n",
       "      <td>29</td>\n",
       "      <td>0.0</td>\n",
       "      <td>1</td>\n",
       "      <td>2</td>\n",
       "      <td>3</td>\n",
       "    </tr>\n",
       "    <tr>\n",
       "      <th>3</th>\n",
       "      <td>2</td>\n",
       "      <td>33</td>\n",
       "      <td>33</td>\n",
       "      <td>0</td>\n",
       "      <td>12</td>\n",
       "      <td>33.0</td>\n",
       "      <td>2</td>\n",
       "      <td>0</td>\n",
       "      <td>0.0</td>\n",
       "      <td>1</td>\n",
       "      <td>1</td>\n",
       "      <td>1</td>\n",
       "    </tr>\n",
       "    <tr>\n",
       "      <th>4</th>\n",
       "      <td>2</td>\n",
       "      <td>23</td>\n",
       "      <td>30</td>\n",
       "      <td>1</td>\n",
       "      <td>9</td>\n",
       "      <td>30.0</td>\n",
       "      <td>1</td>\n",
       "      <td>2</td>\n",
       "      <td>0.0</td>\n",
       "      <td>0</td>\n",
       "      <td>4</td>\n",
       "      <td>3</td>\n",
       "    </tr>\n",
       "  </tbody>\n",
       "</table>\n",
       "</div>"
      ],
      "text/plain": [
       "   region  tenure  age  marital  address  income  ed  employ  retire  gender   \n",
       "0       2      13   44        1        9    64.0   4       5     0.0       0  \\\n",
       "1       3      11   33        1        7   136.0   5       5     0.0       0   \n",
       "2       3      68   52        1       24   116.0   1      29     0.0       1   \n",
       "3       2      33   33        0       12    33.0   2       0     0.0       1   \n",
       "4       2      23   30        1        9    30.0   1       2     0.0       0   \n",
       "\n",
       "   reside  custcat  \n",
       "0       2        1  \n",
       "1       6        4  \n",
       "2       2        3  \n",
       "3       1        1  \n",
       "4       4        3  "
      ]
     },
     "execution_count": 3,
     "metadata": {},
     "output_type": "execute_result"
    }
   ],
   "source": [
    "df = pd.read_csv('https://cf-courses-data.s3.us.cloud-object-storage.appdomain.cloud/IBMDeveloperSkillsNetwork-ML0101EN-SkillsNetwork/labs/Module%203/data/teleCust1000t.csv')\n",
    "df.head()"
   ]
  },
  {
   "cell_type": "markdown",
   "metadata": {
    "button": false,
    "new_sheet": false,
    "run_control": {
     "read_only": false
    }
   },
   "source": [
    "<div id=\"visualization_analysis\">\n",
    "    <h2>Data Visualization and Analysis</h2> \n",
    "</div>\n"
   ]
  },
  {
   "cell_type": "markdown",
   "metadata": {
    "button": false,
    "new_sheet": false,
    "run_control": {
     "read_only": false
    }
   },
   "source": [
    "#### Let’s see how many of each class is in our data set\n"
   ]
  },
  {
   "cell_type": "code",
   "execution_count": 4,
   "metadata": {
    "button": false,
    "new_sheet": false,
    "run_control": {
     "read_only": false
    }
   },
   "outputs": [
    {
     "data": {
      "text/plain": [
       "custcat\n",
       "3    281\n",
       "1    266\n",
       "4    236\n",
       "2    217\n",
       "Name: count, dtype: int64"
      ]
     },
     "execution_count": 4,
     "metadata": {},
     "output_type": "execute_result"
    }
   ],
   "source": [
    "df['custcat'].value_counts()"
   ]
  },
  {
   "cell_type": "markdown",
   "metadata": {
    "button": false,
    "new_sheet": false,
    "run_control": {
     "read_only": false
    }
   },
   "source": [
    "#### 281 Plus Service, 266 Basic-service, 236 Total Service, and 217 E-Service customers\n"
   ]
  },
  {
   "cell_type": "markdown",
   "metadata": {},
   "source": [
    "You can easily explore your data using visualization techniques:\n"
   ]
  },
  {
   "cell_type": "code",
   "execution_count": 5,
   "metadata": {},
   "outputs": [
    {
     "data": {
      "text/plain": [
       "array([[<Axes: title={'center': 'income'}>]], dtype=object)"
      ]
     },
     "execution_count": 5,
     "metadata": {},
     "output_type": "execute_result"
    },
    {
     "data": {
      "image/png": "[encoded data removed]",
      "text/plain": [
       "<Figure size 640x480 with 1 Axes>"
      ]
     },
     "metadata": {},
     "output_type": "display_data"
    }
   ],
   "source": [
    "df.hist(column='income', bins=50)"
   ]
  },
  {
   "cell_type": "markdown",
   "metadata": {
    "button": false,
    "new_sheet": false,
    "run_control": {
     "read_only": false
    }
   },
   "source": [
    "### Feature set\n"
   ]
  },
  {
   "cell_type": "markdown",
   "metadata": {
    "button": false,
    "new_sheet": false,
    "run_control": {
     "read_only": false
    }
   },
   "source": [
    "Let's define feature sets, X:\n"
   ]
  },
  {
   "cell_type": "code",
   "execution_count": 6,
   "metadata": {},
   "outputs": [
    {
     "data": {
      "text/plain": [
       "Index(['region', 'tenure', 'age', 'marital', 'address', 'income', 'ed',\n",
       "       'employ', 'retire', 'gender', 'reside', 'custcat'],\n",
       "      dtype='object')"
      ]
     },
     "execution_count": 6,
     "metadata": {},
     "output_type": "execute_result"
    }
   ],
   "source": [
    "df.columns"
   ]
  },
  {
   "cell_type": "markdown",
   "metadata": {},
   "source": [
    "To use scikit-learn library, we have to convert the Pandas data frame to a Numpy array:\n"
   ]
  },
  {
   "cell_type": "code",
   "execution_count": 7,
   "metadata": {
    "button": false,
    "new_sheet": false,
    "run_control": {
     "read_only": false
    }
   },
   "outputs": [
    {
     "data": {
      "text/plain": [
       "array([[  2.,  13.,  44.,   1.,   9.,  64.,   4.,   5.,   0.,   0.,   2.],\n",
       "       [  3.,  11.,  33.,   1.,   7., 136.,   5.,   5.,   0.,   0.,   6.],\n",
       "       [  3.,  68.,  52.,   1.,  24., 116.,   1.,  29.,   0.,   1.,   2.],\n",
       "       [  2.,  33.,  33.,   0.,  12.,  33.,   2.,   0.,   0.,   1.,   1.],\n",
       "       [  2.,  23.,  30.,   1.,   9.,  30.,   1.,   2.,   0.,   0.,   4.]])"
      ]
     },
     "execution_count": 7,
     "metadata": {},
     "output_type": "execute_result"
    }
   ],
   "source": [
    "X = df[['region', 'tenure','age', 'marital', 'address', 'income', 'ed', 'employ','retire', 'gender', 'reside']] .values  #.astype(float)\n",
    "X[0:5]\n"
   ]
  },
  {
   "cell_type": "markdown",
   "metadata": {
    "button": false,
    "new_sheet": false,
    "run_control": {
     "read_only": false
    }
   },
   "source": [
    "What are our labels?\n"
   ]
  },
  {
   "cell_type": "code",
   "execution_count": 8,
   "metadata": {
    "button": false,
    "new_sheet": false,
    "run_control": {
     "read_only": false
    }
   },
   "outputs": [
    {
     "data": {
      "text/plain": [
       "array([1, 4, 3, 1, 3], dtype=int64)"
      ]
     },
     "execution_count": 8,
     "metadata": {},
     "output_type": "execute_result"
    }
   ],
   "source": [
    "y = df['custcat'].values\n",
    "y[0:5]"
   ]
  },
  {
   "cell_type": "markdown",
   "metadata": {
    "button": false,
    "new_sheet": false,
    "run_control": {
     "read_only": false
    }
   },
   "source": [
    "## Normalize Data\n"
   ]
  },
  {
   "cell_type": "markdown",
   "metadata": {
    "button": false,
    "new_sheet": false,
    "run_control": {
     "read_only": false
    }
   },
   "source": [
    "Data Standardization gives the data zero mean and unit variance, it is good practice, especially for algorithms such as KNN which is based on the distance of data points:\n"
   ]
  },
  {
   "cell_type": "code",
   "execution_count": 9,
   "metadata": {
    "button": false,
    "new_sheet": false,
    "run_control": {
     "read_only": false
    }
   },
   "outputs": [
    {
     "data": {
      "text/plain": [
       "array([[-0.02696767, -1.055125  ,  0.18450456,  1.0100505 , -0.25303431,\n",
       "        -0.12650641,  1.0877526 , -0.5941226 , -0.22207644, -1.03459817,\n",
       "        -0.23065004],\n",
       "       [ 1.19883553, -1.14880563, -0.69181243,  1.0100505 , -0.4514148 ,\n",
       "         0.54644972,  1.9062271 , -0.5941226 , -0.22207644, -1.03459817,\n",
       "         2.55666158],\n",
       "       [ 1.19883553,  1.52109247,  0.82182601,  1.0100505 ,  1.23481934,\n",
       "         0.35951747, -1.36767088,  1.78752803, -0.22207644,  0.96655883,\n",
       "        -0.23065004],\n",
       "       [-0.02696767, -0.11831864, -0.69181243, -0.9900495 ,  0.04453642,\n",
       "        -0.41625141, -0.54919639, -1.09029981, -0.22207644,  0.96655883,\n",
       "        -0.92747794],\n",
       "       [-0.02696767, -0.58672182, -0.93080797,  1.0100505 , -0.25303431,\n",
       "        -0.44429125, -1.36767088, -0.89182893, -0.22207644, -1.03459817,\n",
       "         1.16300577]])"
      ]
     },
     "execution_count": 9,
     "metadata": {},
     "output_type": "execute_result"
    }
   ],
   "source": [
    "X = preprocessing.StandardScaler().fit(X).transform(X.astype(float))\n",
    "X[0:5]"
   ]
  },
  {
   "cell_type": "markdown",
   "metadata": {
    "button": false,
    "new_sheet": false,
    "run_control": {
     "read_only": false
    }
   },
   "source": [
    "### Train Test Split\n",
    "\n",
    "Out of Sample Accuracy is the percentage of correct predictions that the model makes on data that the model has NOT been trained on. Doing a train and test on the same dataset will most likely have low out-of-sample accuracy, due to the likelihood of our model overfitting.\n",
    "\n",
    "It is important that our models have a high, out-of-sample accuracy, because the purpose of any model, of course, is to make correct predictions on unknown data. So how can we improve out-of-sample accuracy? One way is to use an evaluation approach called Train/Test Split.\n",
    "Train/Test Split involves splitting the dataset into training and testing sets respectively, which are mutually exclusive. After which, you train with the training set and test with the testing set.\n",
    "\n",
    "This will provide a more accurate evaluation on out-of-sample accuracy because the testing dataset is not part of the dataset that has been used to train the model. It is more realistic for the real world problems.\n"
   ]
  },
  {
   "cell_type": "code",
   "execution_count": 10,
   "metadata": {
    "button": false,
    "new_sheet": false,
    "run_control": {
     "read_only": false
    }
   },
   "outputs": [
    {
     "name": "stdout",
     "output_type": "stream",
     "text": [
      "Train set: (800, 11) (800,)\n",
      "Test set: (200, 11) (200,)\n"
     ]
    }
   ],
   "source": [
    "from sklearn.model_selection import train_test_split\n",
    "X_train, X_test, y_train, y_test = train_test_split( X, y, test_size=0.2, random_state=4)\n",
    "print ('Train set:', X_train.shape,  y_train.shape)\n",
    "print ('Test set:', X_test.shape,  y_test.shape)"
   ]
  },
  {
   "cell_type": "markdown",
   "metadata": {
    "button": false,
    "new_sheet": false,
    "run_control": {
     "read_only": false
    }
   },
   "source": [
    "<div id=\"classification\">\n",
    "    <h2>Classification</h2>\n",
    "</div>\n"
   ]
  },
  {
   "cell_type": "markdown",
   "metadata": {
    "button": false,
    "new_sheet": false,
    "run_control": {
     "read_only": false
    }
   },
   "source": [
    "<h3>K nearest neighbor (KNN)</h3>\n"
   ]
  },
  {
   "cell_type": "markdown",
   "metadata": {
    "button": false,
    "new_sheet": false,
    "run_control": {
     "read_only": false
    }
   },
   "source": [
    "#### Import library\n"
   ]
  },
  {
   "cell_type": "markdown",
   "metadata": {
    "button": false,
    "new_sheet": false,
    "run_control": {
     "read_only": false
    }
   },
   "source": [
    "Classifier implementing the k-nearest neighbors vote.\n"
   ]
  },
  {
   "cell_type": "code",
   "execution_count": 11,
   "metadata": {
    "button": false,
    "new_sheet": false,
    "run_control": {
     "read_only": false
    }
   },
   "outputs": [],
   "source": [
    "from sklearn.neighbors import KNeighborsClassifier"
   ]
  },
  {
   "cell_type": "markdown",
   "metadata": {
    "button": false,
    "new_sheet": false,
    "run_control": {
     "read_only": false
    }
   },
   "source": [
    "### Training\n",
    "\n",
    "Let's start the algorithm with k=4 for now:\n"
   ]
  },
  {
   "cell_type": "code",
   "execution_count": 12,
   "metadata": {
    "button": false,
    "new_sheet": false,
    "run_control": {
     "read_only": false
    }
   },
   "outputs": [
    {
     "data": {
      "text/html": [
       "<style>#sk-container-id-1 {color: black;}#sk-container-id-1 pre{padding: 0;}#sk-container-id-1 div.sk-toggleable {background-color: white;}#sk-container-id-1 label.sk-toggleable__label {cursor: pointer;display: block;width: 100%;margin-bottom: 0;padding: 0.3em;box-sizing: border-box;text-align: center;}#sk-container-id-1 label.sk-toggleable__label-arrow:before {content: \"▸\";float: left;margin-right: 0.25em;color: #696969;}#sk-container-id-1 label.sk-toggleable__label-arrow:hover:before {color: black;}#sk-container-id-1 div.sk-estimator:hover label.sk-toggleable__label-arrow:before {color: black;}#sk-container-id-1 div.sk-toggleable__content {max-height: 0;max-width: 0;overflow: hidden;text-align: left;background-color: #f0f8ff;}#sk-container-id-1 div.sk-toggleable__content pre {margin: 0.2em;color: black;border-radius: 0.25em;background-color: #f0f8ff;}#sk-container-id-1 input.sk-toggleable__control:checked~div.sk-toggleable__content {max-height: 200px;max-width: 100%;overflow: auto;}#sk-container-id-1 input.sk-toggleable__control:checked~label.sk-toggleable__label-arrow:before {content: \"▾\";}#sk-container-id-1 div.sk-estimator input.sk-toggleable__control:checked~label.sk-toggleable__label {background-color: #d4ebff;}#sk-container-id-1 div.sk-label input.sk-toggleable__control:checked~label.sk-toggleable__label {background-color: #d4ebff;}#sk-container-id-1 input.sk-hidden--visually {border: 0;clip: rect(1px 1px 1px 1px);clip: rect(1px, 1px, 1px, 1px);height: 1px;margin: -1px;overflow: hidden;padding: 0;position: absolute;width: 1px;}#sk-container-id-1 div.sk-estimator {font-family: monospace;background-color: #f0f8ff;border: 1px dotted black;border-radius: 0.25em;box-sizing: border-box;margin-bottom: 0.5em;}#sk-container-id-1 div.sk-estimator:hover {background-color: #d4ebff;}#sk-container-id-1 div.sk-parallel-item::after {content: \"\";width: 100%;border-bottom: 1px solid gray;flex-grow: 1;}#sk-container-id-1 div.sk-label:hover label.sk-toggleable__label {background-color: #d4ebff;}#sk-container-id-1 div.sk-serial::before {content: \"\";position: absolute;border-left: 1px solid gray;box-sizing: border-box;top: 0;bottom: 0;left: 50%;z-index: 0;}#sk-container-id-1 div.sk-serial {display: flex;flex-direction: column;align-items: center;background-color: white;padding-right: 0.2em;padding-left: 0.2em;position: relative;}#sk-container-id-1 div.sk-item {position: relative;z-index: 1;}#sk-container-id-1 div.sk-parallel {display: flex;align-items: stretch;justify-content: center;background-color: white;position: relative;}#sk-container-id-1 div.sk-item::before, #sk-container-id-1 div.sk-parallel-item::before {content: \"\";position: absolute;border-left: 1px solid gray;box-sizing: border-box;top: 0;bottom: 0;left: 50%;z-index: -1;}#sk-container-id-1 div.sk-parallel-item {display: flex;flex-direction: column;z-index: 1;position: relative;background-color: white;}#sk-container-id-1 div.sk-parallel-item:first-child::after {align-self: flex-end;width: 50%;}#sk-container-id-1 div.sk-parallel-item:last-child::after {align-self: flex-start;width: 50%;}#sk-container-id-1 div.sk-parallel-item:only-child::after {width: 0;}#sk-container-id-1 div.sk-dashed-wrapped {border: 1px dashed gray;margin: 0 0.4em 0.5em 0.4em;box-sizing: border-box;padding-bottom: 0.4em;background-color: white;}#sk-container-id-1 div.sk-label label {font-family: monospace;font-weight: bold;display: inline-block;line-height: 1.2em;}#sk-container-id-1 div.sk-label-container {text-align: center;}#sk-container-id-1 div.sk-container {/* jupyter's `normalize.less` sets `[hidden] { display: none; }` but bootstrap.min.css set `[hidden] { display: none !important; }` so we also need the `!important` here to be able to override the default hidden behavior on the sphinx rendered scikit-learn.org. See: https://github.com/scikit-learn/scikit-learn/issues/21755 */display: inline-block !important;position: relative;}#sk-container-id-1 div.sk-text-repr-fallback {display: none;}</style><div id=\"sk-container-id-1\" class=\"sk-top-container\"><div class=\"sk-text-repr-fallback\"><pre>KNeighborsClassifier(n_neighbors=4)</pre><b>In a Jupyter environment, please rerun this cell to show the HTML representation or trust the notebook. <br />On GitHub, the HTML representation is unable to render, please try loading this page with nbviewer.org.</b></div><div class=\"sk-container\" hidden><div class=\"sk-item\"><div class=\"sk-estimator sk-toggleable\"><input class=\"sk-toggleable__control sk-hidden--visually\" id=\"sk-estimator-id-1\" type=\"checkbox\" checked><label for=\"sk-estimator-id-1\" class=\"sk-toggleable__label sk-toggleable__label-arrow\">KNeighborsClassifier</label><div class=\"sk-toggleable__content\"><pre>KNeighborsClassifier(n_neighbors=4)</pre></div></div></div></div></div>"
      ],
      "text/plain": [
       "KNeighborsClassifier(n_neighbors=4)"
      ]
     },
     "execution_count": 12,
     "metadata": {},
     "output_type": "execute_result"
    }
   ],
   "source": [
    "k = 4\n",
    "#Train Model and Predict  \n",
    "neigh = KNeighborsClassifier(n_neighbors = k).fit(X_train,y_train)\n",
    "neigh"
   ]
  },
  {
   "cell_type": "markdown",
   "metadata": {
    "button": false,
    "new_sheet": false,
    "run_control": {
     "read_only": false
    }
   },
   "source": [
    "### Predicting\n",
    "\n",
    "We can use the model to make predictions on the test set:\n"
   ]
  },
  {
   "cell_type": "code",
   "execution_count": 13,
   "metadata": {
    "button": false,
    "new_sheet": false,
    "run_control": {
     "read_only": false
    }
   },
   "outputs": [
    {
     "data": {
      "text/plain": [
       "array([1, 1, 3, 2, 4], dtype=int64)"
      ]
     },
     "execution_count": 13,
     "metadata": {},
     "output_type": "execute_result"
    }
   ],
   "source": [
    "yhat = neigh.predict(X_test)\n",
    "yhat[0:5]"
   ]
  },
  {
   "cell_type": "markdown",
   "metadata": {
    "button": false,
    "new_sheet": false,
    "run_control": {
     "read_only": false
    }
   },
   "source": [
    "### Accuracy evaluation\n",
    "\n",
    "In multilabel classification, **accuracy classification score** is a function that computes subset accuracy. This function is equal to the jaccard_score function. Essentially, it calculates how closely the actual labels and predicted labels are matched in the test set.\n"
   ]
  },
  {
   "cell_type": "code",
   "execution_count": 14,
   "metadata": {},
   "outputs": [
    {
     "name": "stdout",
     "output_type": "stream",
     "text": [
      "Train set Accuracy:  0.5475\n",
      "Test set Accuracy:  0.32\n"
     ]
    }
   ],
   "source": [
    "from sklearn import metrics\n",
    "print(\"Train set Accuracy: \", metrics.accuracy_score(y_train, neigh.predict(X_train)))\n",
    "print(\"Test set Accuracy: \", metrics.accuracy_score(y_test, yhat))"
   ]
  },
  {
   "cell_type": "markdown",
   "metadata": {},
   "source": [
    "## Practice\n",
    "\n",
    "Can you build the model again, but this time with k=6?\n"
   ]
  },
  {
   "cell_type": "code",
   "execution_count": null,
   "metadata": {},
   "outputs": [],
   "source": [
    "# write your code here\n",
    "\n",
    "\n"
   ]
  },
  {
   "cell_type": "markdown",
   "metadata": {},
   "source": [
    "<details><summary>Click here for the solution</summary>\n",
    "\n",
    "```python\n",
    "k = 6\n",
    "neigh6 = KNeighborsClassifier(n_neighbors = k).fit(X_train,y_train)\n",
    "yhat6 = neigh6.predict(X_test)\n",
    "print(\"Train set Accuracy: \", metrics.accuracy_score(y_train, neigh6.predict(X_train)))\n",
    "print(\"Test set Accuracy: \", metrics.accuracy_score(y_test, yhat6))\n",
    "\n",
    "```\n",
    "\n",
    "</details>\n"
   ]
  },
  {
   "cell_type": "markdown",
   "metadata": {
    "button": false,
    "new_sheet": false,
    "run_control": {
     "read_only": false
    }
   },
   "source": [
    "#### What about other K?\n",
    "\n",
    "K in KNN, is the number of nearest neighbors to examine. It is supposed to be specified by the user. So, how can we choose right value for K?\n",
    "The general solution is to reserve a part of your data for testing the accuracy of the model. Then choose k =1, use the training part for modeling, and calculate the accuracy of prediction using all samples in your test set. Repeat this process, increasing the k, and see which k is the best for your model.\n",
    "\n",
    "We can calculate the accuracy of KNN for different values of k.\n"
   ]
  },
  {
   "cell_type": "code",
   "execution_count": null,
   "metadata": {
    "button": false,
    "new_sheet": false,
    "run_control": {
     "read_only": false
    }
   },
   "outputs": [],
   "source": [
    "Ks = 10\n",
    "mean_acc = np.zeros((Ks-1))\n",
    "std_acc = np.zeros((Ks-1))\n",
    "\n",
    "for n in range(1,Ks):\n",
    "    \n",
    "    #Train Model and Predict  \n",
    "    neigh = KNeighborsClassifier(n_neighbors = n).fit(X_train,y_train)\n",
    "    yhat=neigh.predict(X_test)\n",
    "    mean_acc[n-1] = metrics.accuracy_score(y_test, yhat)\n",
    "\n",
    "    \n",
    "    std_acc[n-1]=np.std(yhat==y_test)/np.sqrt(yhat.shape[0])\n",
    "\n",
    "mean_acc"
   ]
  },
  {
   "cell_type": "markdown",
   "metadata": {
    "button": false,
    "new_sheet": false,
    "run_control": {
     "read_only": false
    }
   },
   "source": [
    "#### Plot the model accuracy for a different number of neighbors.\n"
   ]
  },
  {
   "cell_type": "code",
   "execution_count": null,
   "metadata": {
    "button": false,
    "new_sheet": false,
    "run_control": {
     "read_only": false
    }
   },
   "outputs": [],
   "source": [
    "plt.plot(range(1,Ks),mean_acc,'g')\n",
    "plt.fill_between(range(1,Ks),mean_acc - 1 * std_acc,mean_acc + 1 * std_acc, alpha=0.10)\n",
    "plt.fill_between(range(1,Ks),mean_acc - 3 * std_acc,mean_acc + 3 * std_acc, alpha=0.10,color=\"green\")\n",
    "plt.legend(('Accuracy ', '+/- 1xstd','+/- 3xstd'))\n",
    "plt.ylabel('Accuracy ')\n",
    "plt.xlabel('Number of Neighbors (K)')\n",
    "plt.tight_layout()\n",
    "plt.show()"
   ]
  },
  {
   "cell_type": "code",
   "execution_count": null,
   "metadata": {
    "button": false,
    "new_sheet": false,
    "run_control": {
     "read_only": false
    }
   },
   "outputs": [],
   "source": [
    "print( \"The best accuracy was with\", mean_acc.max(), \"with k=\", mean_acc.argmax()+1) "
   ]
  },
  {
   "cell_type": "markdown",
   "metadata": {},
   "source": [
    "### Thank you for completing this lab!\n",
    "\n",
    "## Author\n",
    "\n",
    "Saeed Aghabozorgi\n",
    "\n",
    "### Other Contributors\n",
    "\n",
    "<a href=\"https://www.linkedin.com/in/joseph-s-50398b136/?utm_medium=Exinfluencer&utm_source=Exinfluencer&utm_content=000026UJ&utm_term=10006555&utm_id=NA-SkillsNetwork-Channel-SkillsNetworkCoursesIBMDeveloperSkillsNetworkML0101ENSkillsNetwork20718538-2022-01-01\">Joseph Santarcangelo</a>\n",
    "\n",
    "## Change Log\n",
    "\n",
    "| Date (YYYY-MM-DD) | Version | Changed By | Change Description                 |\n",
    "| ----------------- | ------- | ---------- | ---------------------------------- |\n",
    "| 2021-01-21        | 2.4     | Lakshmi    | Updated sklearn library            |\n",
    "| 2020-11-20        | 2.3     | Lakshmi    | Removed unused imports             |\n",
    "| 2020-11-17        | 2.2     | Lakshmi    | Changed plot function of KNN       |\n",
    "| 2020-11-03        | 2.1     | Lakshmi    | Changed URL of csv                 |\n",
    "| 2020-08-27        | 2.0     | Lavanya    | Moved lab to course repo in GitLab |\n",
    "|                   |         |            |                                    |\n",
    "|                   |         |            |                                    |\n",
    "\n",
    "## <h3 align=\"center\"> © IBM Corporation 2020. All rights reserved. <h3/>\n"
   ]
  }
 ],
 "metadata": {
  "kernelspec": {
   "display_name": "Python 3 (ipykernel)",
   "language": "python",
   "name": "python3"
  },
  "language_info": {
   "codemirror_mode": {
    "name": "ipython",
    "version": 3
   },
   "file_extension": ".py",
   "mimetype": "text/x-python",
   "name": "python",
   "nbconvert_exporter": "python",
   "pygments_lexer": "ipython3",
   "version": "3.11.3"
  }
 },
 "nbformat": 4,
 "nbformat_minor": 4
}
