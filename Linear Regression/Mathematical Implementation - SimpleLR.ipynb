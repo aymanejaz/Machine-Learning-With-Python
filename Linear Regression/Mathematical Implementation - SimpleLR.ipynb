{
 "cells": [
  {
   "cell_type": "markdown",
   "id": "b7ecb27b",
   "metadata": {},
   "source": [
    "# Mathematical Formula-Based Linear Regression Implementation"
   ]
  },
  {
   "cell_type": "code",
   "execution_count": 165,
   "id": "9f84db07",
   "metadata": {},
   "outputs": [],
   "source": [
    "class MyLR:\n",
    "# constactr\n",
    "    def __init__(self):\n",
    "        self.m = None\n",
    "        self.b = None\n",
    "        \n",
    "    def fit(self, x_train, y_train):\n",
    "# print(x_train.shape)\n",
    "        \n",
    "        num1 = 0\n",
    "        den = 0\n",
    "        \n",
    "        for j in range(x_train.shape[0]):\n",
    "            \n",
    "            num1 = num1 + ((x_train[j] - x_train.mean())*(y_train[j] - y_train.mean()))\n",
    "            den =   den + ((x_train[j] - x_train.mean())*(x_train[j] - x_train.mean()))\n",
    "            \n",
    "        self.m = num1/den\n",
    "        self.b = y_train.mean() - (self.m * x_train.mean())\n",
    "        print(self.m)\n",
    "        print(self.b)\n",
    "        \n",
    "    \n",
    "    def predict(self, x_test):\n",
    "        \n",
    "        return self.m * x_test + self.b\n",
    "    "
   ]
  },
  {
   "cell_type": "code",
   "execution_count": 24,
   "id": "9db8589a",
   "metadata": {},
   "outputs": [],
   "source": [
    "import numpy as np\n",
    "import pandas as pd"
   ]
  },
  {
   "cell_type": "code",
   "execution_count": 145,
   "id": "edc81106",
   "metadata": {},
   "outputs": [
    {
     "data": {
      "text/html": [
       "<div>\n",
       "<style scoped>\n",
       "    .dataframe tbody tr th:only-of-type {\n",
       "        vertical-align: middle;\n",
       "    }\n",
       "\n",
       "    .dataframe tbody tr th {\n",
       "        vertical-align: top;\n",
       "    }\n",
       "\n",
       "    .dataframe thead th {\n",
       "        text-align: right;\n",
       "    }\n",
       "</style>\n",
       "<table border=\"1\" class=\"dataframe\">\n",
       "  <thead>\n",
       "    <tr style=\"text-align: right;\">\n",
       "      <th></th>\n",
       "      <th>cgpa</th>\n",
       "      <th>package</th>\n",
       "    </tr>\n",
       "  </thead>\n",
       "  <tbody>\n",
       "    <tr>\n",
       "      <th>0</th>\n",
       "      <td>6.89</td>\n",
       "      <td>3.26</td>\n",
       "    </tr>\n",
       "    <tr>\n",
       "      <th>1</th>\n",
       "      <td>5.12</td>\n",
       "      <td>1.98</td>\n",
       "    </tr>\n",
       "    <tr>\n",
       "      <th>2</th>\n",
       "      <td>7.82</td>\n",
       "      <td>3.25</td>\n",
       "    </tr>\n",
       "    <tr>\n",
       "      <th>3</th>\n",
       "      <td>7.42</td>\n",
       "      <td>3.67</td>\n",
       "    </tr>\n",
       "    <tr>\n",
       "      <th>4</th>\n",
       "      <td>6.94</td>\n",
       "      <td>3.57</td>\n",
       "    </tr>\n",
       "  </tbody>\n",
       "</table>\n",
       "</div>"
      ],
      "text/plain": [
       "   cgpa  package\n",
       "0  6.89     3.26\n",
       "1  5.12     1.98\n",
       "2  7.82     3.25\n",
       "3  7.42     3.67\n",
       "4  6.94     3.57"
      ]
     },
     "execution_count": 145,
     "metadata": {},
     "output_type": "execute_result"
    }
   ],
   "source": [
    "df = pd.read_csv('placement.csv')\n",
    "df.head()"
   ]
  },
  {
   "cell_type": "code",
   "execution_count": 146,
   "id": "d68a6150",
   "metadata": {},
   "outputs": [],
   "source": [
    "x = df.iloc[:,0].values\n",
    "y = df.iloc[:,-1].values"
   ]
  },
  {
   "cell_type": "code",
   "execution_count": 147,
   "id": "4fd9f69e",
   "metadata": {},
   "outputs": [
    {
     "data": {
      "text/plain": [
       "array([3.26, 1.98, 3.25, 3.67, 3.57, 2.99, 2.6 , 2.48, 2.31, 3.51, 1.86,\n",
       "       2.6 , 3.65, 2.89, 3.42, 3.23, 2.35, 2.09, 2.98, 2.83, 3.16, 2.93,\n",
       "       2.3 , 2.48, 2.71, 3.65, 3.42, 2.16, 2.24, 3.49, 3.26, 3.89, 3.08,\n",
       "       2.73, 3.42, 2.87, 2.84, 2.43, 4.36, 3.33, 4.02, 2.7 , 2.54, 2.76,\n",
       "       1.86, 3.58, 2.26, 3.26, 4.09, 4.62, 4.43, 3.79, 4.11, 2.61, 3.09,\n",
       "       3.39, 2.74, 1.94, 3.09, 3.31, 2.19, 1.61, 2.09, 4.25, 2.92, 3.81,\n",
       "       1.63, 2.89, 2.99, 2.94, 2.35, 3.34, 3.62, 4.03, 3.44, 3.28, 3.15,\n",
       "       4.6 , 2.21, 3.  , 3.44, 2.2 , 2.17, 3.49, 1.53, 1.48, 2.77, 3.55,\n",
       "       1.48, 2.72, 2.66, 2.14, 4.  , 3.08, 2.42, 2.79, 2.61, 2.84, 3.83,\n",
       "       3.24, 4.14, 3.52, 1.37, 3.  , 3.74, 2.82, 2.19, 2.59, 3.54, 4.06,\n",
       "       3.76, 2.25, 4.1 , 2.37, 1.87, 4.21, 3.33, 2.99, 2.88, 2.65, 1.73,\n",
       "       3.02, 2.01, 2.3 , 2.31, 3.16, 2.6 , 3.11, 3.34, 3.12, 2.49, 2.01,\n",
       "       2.48, 2.58, 2.83, 2.6 , 2.1 , 3.13, 3.89, 2.4 , 3.15, 3.18, 3.04,\n",
       "       1.54, 2.42, 2.18, 2.46, 2.21, 3.4 , 3.67, 2.73, 2.76, 3.08, 3.99,\n",
       "       2.85, 3.09, 3.13, 2.7 , 3.04, 4.08, 2.93, 3.33, 2.55, 3.91, 3.82,\n",
       "       4.08, 3.98, 3.6 , 3.52, 4.37, 2.87, 3.76, 2.51, 2.56, 2.99, 3.5 ,\n",
       "       3.23, 3.64, 3.63, 3.03, 2.72, 3.89, 2.08, 2.72, 3.14, 3.18, 3.47,\n",
       "       2.44, 3.08, 4.06, 2.69, 3.48, 3.75, 1.94, 3.67, 2.46, 2.57, 3.24,\n",
       "       3.96, 2.33])"
      ]
     },
     "execution_count": 147,
     "metadata": {},
     "output_type": "execute_result"
    }
   ],
   "source": [
    "y"
   ]
  },
  {
   "cell_type": "code",
   "execution_count": 148,
   "id": "f3fa631e",
   "metadata": {},
   "outputs": [
    {
     "data": {
      "text/plain": [
       "array([6.89, 5.12, 7.82, 7.42, 6.94, 7.89, 6.73, 6.75, 6.09, 8.31, 5.32,\n",
       "       6.61, 8.94, 6.93, 7.73, 7.25, 6.84, 5.38, 6.94, 7.48, 7.28, 6.85,\n",
       "       6.14, 6.19, 6.53, 7.28, 8.31, 5.42, 5.94, 7.15, 7.36, 8.1 , 6.96,\n",
       "       6.35, 7.34, 6.87, 5.99, 5.9 , 8.62, 7.43, 9.38, 6.89, 5.95, 7.66,\n",
       "       5.09, 7.87, 6.07, 5.84, 8.63, 8.87, 9.58, 9.26, 8.37, 6.47, 6.86,\n",
       "       8.2 , 5.84, 6.6 , 6.92, 7.56, 5.61, 5.48, 6.34, 9.16, 7.36, 7.6 ,\n",
       "       5.11, 6.51, 7.56, 7.3 , 5.79, 7.47, 7.78, 8.44, 6.85, 6.97, 6.94,\n",
       "       8.99, 6.59, 7.18, 7.63, 6.1 , 5.58, 8.44, 4.26, 4.79, 7.61, 8.09,\n",
       "       4.73, 6.42, 7.11, 6.22, 7.9 , 6.79, 5.83, 6.63, 7.11, 5.98, 7.69,\n",
       "       6.61, 7.95, 6.71, 5.13, 7.05, 7.62, 6.66, 6.13, 6.33, 7.76, 7.77,\n",
       "       8.18, 5.42, 8.58, 6.94, 5.84, 8.35, 9.04, 7.12, 7.4 , 7.39, 5.23,\n",
       "       6.5 , 5.12, 5.1 , 6.06, 7.33, 5.91, 6.78, 7.93, 7.29, 6.68, 6.37,\n",
       "       5.84, 6.05, 7.2 , 6.1 , 5.64, 7.14, 7.91, 7.19, 7.91, 6.76, 6.93,\n",
       "       4.85, 6.17, 5.84, 6.07, 5.66, 7.57, 8.28, 6.3 , 6.12, 7.37, 7.94,\n",
       "       7.08, 6.98, 7.38, 6.47, 5.95, 8.71, 7.13, 7.3 , 5.53, 8.93, 9.06,\n",
       "       8.21, 8.6 , 8.13, 8.65, 9.31, 6.22, 8.01, 6.93, 6.75, 7.32, 7.04,\n",
       "       6.29, 7.09, 8.15, 7.14, 6.19, 8.22, 5.88, 7.28, 7.88, 6.31, 7.84,\n",
       "       6.26, 7.35, 8.11, 6.19, 7.28, 8.25, 4.57, 7.89, 6.93, 5.89, 7.21,\n",
       "       7.63, 6.22])"
      ]
     },
     "execution_count": 148,
     "metadata": {},
     "output_type": "execute_result"
    }
   ],
   "source": [
    "x"
   ]
  },
  {
   "cell_type": "code",
   "execution_count": 149,
   "id": "2ceea8e0",
   "metadata": {},
   "outputs": [],
   "source": [
    "from sklearn.model_selection import train_test_split\n",
    "x_train, x_test, y_train, _y_test = train_test_split(x,y,test_size=0.2,random_state=2)"
   ]
  },
  {
   "cell_type": "code",
   "execution_count": 150,
   "id": "10462f77",
   "metadata": {},
   "outputs": [
    {
     "data": {
      "text/plain": [
       "(160,)"
      ]
     },
     "execution_count": 150,
     "metadata": {},
     "output_type": "execute_result"
    }
   ],
   "source": [
    "x_train.shape"
   ]
  },
  {
   "cell_type": "code",
   "execution_count": 166,
   "id": "66e16bcf",
   "metadata": {},
   "outputs": [],
   "source": [
    "lr = MyLR()"
   ]
  },
  {
   "cell_type": "code",
   "execution_count": 167,
   "id": "d7caa8fb",
   "metadata": {},
   "outputs": [
    {
     "name": "stdout",
     "output_type": "stream",
     "text": [
      "0.5579519734250721\n",
      "-0.8961119222429152\n"
     ]
    }
   ],
   "source": [
    "lr.fit(x_train, y_train)"
   ]
  },
  {
   "cell_type": "code",
   "execution_count": 160,
   "id": "4703dcb2",
   "metadata": {},
   "outputs": [
    {
     "data": {
      "text/plain": [
       "7.14"
      ]
     },
     "execution_count": 160,
     "metadata": {},
     "output_type": "execute_result"
    }
   ],
   "source": [
    "x_train[0]"
   ]
  },
  {
   "cell_type": "code",
   "execution_count": 155,
   "id": "dc955145",
   "metadata": {},
   "outputs": [
    {
     "data": {
      "text/plain": [
       "8.65"
      ]
     },
     "execution_count": 155,
     "metadata": {},
     "output_type": "execute_result"
    }
   ],
   "source": [
    "x_train[j]"
   ]
  },
  {
   "cell_type": "code",
   "execution_count": 157,
   "id": "addb6bc2",
   "metadata": {},
   "outputs": [
    {
     "data": {
      "text/plain": [
       "6.989937500000001"
      ]
     },
     "execution_count": 157,
     "metadata": {},
     "output_type": "execute_result"
    }
   ],
   "source": [
    "x_train.mean()"
   ]
  },
  {
   "cell_type": "code",
   "execution_count": 158,
   "id": "75941132",
   "metadata": {},
   "outputs": [
    {
     "data": {
      "text/plain": [
       "8.58"
      ]
     },
     "execution_count": 158,
     "metadata": {},
     "output_type": "execute_result"
    }
   ],
   "source": [
    "x_test[0]"
   ]
  },
  {
   "cell_type": "code",
   "execution_count": 159,
   "id": "9804a9c1",
   "metadata": {},
   "outputs": [
    {
     "name": "stdout",
     "output_type": "stream",
     "text": [
      "3.891116009744203\n"
     ]
    }
   ],
   "source": [
    "print(lr.predict(x_test[0]))"
   ]
  },
  {
   "cell_type": "code",
   "execution_count": 175,
   "id": "843b2d1d",
   "metadata": {},
   "outputs": [
    {
     "name": "stdout",
     "output_type": "stream",
     "text": [
      "Slope (m): 0.5579519734250721\n",
      "Intercept (b): -0.8961119222429152\n"
     ]
    }
   ],
   "source": [
    "# Print the calculated slope and intercept\n",
    "print(\"Slope (m):\", lr.m)\n",
    "print(\"Intercept (b):\", lr.b)"
   ]
  },
  {
   "cell_type": "markdown",
   "id": "c9a745e6",
   "metadata": {},
   "source": [
    "<p>\n",
    "    Both the mathematical formula-based implementation and the\n",
    "    <a href=\"https://github.com/aymanejaz/Machine-Learning-With-Python/blob/main/Linear%20Regression/Cgpa-package%20simple%20linear%20regression%20model.ipynb\" target=\"_blank\">\n",
    "        Sklearn Linear Model \n",
    "    </a>\n",
    "    implementation yield the same results\n",
    "</p>\n",
    "\n"
   ]
  },
  {
   "cell_type": "code",
   "execution_count": null,
   "id": "8e5cacbd",
   "metadata": {},
   "outputs": [],
   "source": []
  },
  {
   "attachments": {
    "image-2.png": {
     "image/png": "[encoded data removed]"
    },
    "image-3.png": {
     "image/png": "[encoded data removed]"
    },
    "image-4.png": {
     "image/png": "[encoded data removed]"
    }
   },
   "cell_type": "markdown",
   "id": "48c0b232",
   "metadata": {},
   "source": [
    "## Another Example with mathematical formulas\n",
    "Here are the mathematical formulas used in the provided code for the `MyLR` class:\n",
    "\n",
    "1. **Slope (m) Calculation Formula:**\n",
    "   - Formula: \n",
    "   \n",
    "   ![image-2.png](attachment:image-2.png)\n",
    "<!--    \\( m = \\frac{\\sum_{i=1}^{n} (x_i - \\bar{x})(y_i - \\bar{y})}{\\sum_{i=1}^{n} (x_i - \\bar{x})^2} \\)\n",
    "    -->\n",
    "   \n",
    "   - Description: This formula calculates the slope of the linear regression line, which represents the change in the dependent variable (y) for a unit change in the independent variable (x).\n",
    "\n",
    "2. **Intercept (b) Calculation Formula:**\n",
    "<!--    - Formula: \\( b = \\bar{y} - m \\cdot \\bar{x} \\) -->\n",
    "![image-3.png](attachment:image-3.png)\n",
    "   - Description: This formula calculates the intercept of the linear regression line, which is the predicted value of the dependent variable (y) when the independent variable (x) is zero.\n",
    "\n",
    "3. **Prediction Formula:**\n",
    "   - Formula: \n",
    "   ![image-4.png](attachment:image-4.png)\n",
    "<!--    \\( \\hat{y} = m \\cdot x + b \\) -->\n",
    "   - Description: This formula is used to predict the value of the dependent variable (y) based on the calculated slope (m) and intercept (b), given a specific value of the independent variable (x).\n",
    "\n",
    "In the code, these formulas are implemented step by step within the methods of the `MyLR` class to fit the model to the training data and make predictions using the trained model. The calculated slope and intercept are printed, and predictions are made using the linear equation \\(\\hat{y} = m \\cdot x + b\\)."
   ]
  },
  {
   "cell_type": "raw",
   "id": "845c822d",
   "metadata": {},
   "source": []
  },
  {
   "cell_type": "code",
   "execution_count": 143,
   "id": "b5d36be4",
   "metadata": {},
   "outputs": [],
   "source": [
    "# Define a custom class named MyLR for simple linear regression\n",
    "class MyLR:\n",
    "    # Constructor to initialize the slope (m) and intercept (b) as None\n",
    "    def __init__(self):\n",
    "        self.m = None\n",
    "        self.b = None\n",
    "        \n",
    "    # Method to fit the linear regression model to the training data\n",
    "    def fit(self, x_train, y_train):\n",
    "        num1 = 0\n",
    "        den = 0\n",
    "        \n",
    "        # Loop through each data point in the training set\n",
    "        for j in range(x_train.shape[0]):\n",
    "            # Calculate the numerator and denominator terms for the slope calculation\n",
    "            num1 = num1 + ((x_train[j] - x_train.mean()) * (y_train[j] - y_train.mean()))\n",
    "            den = den + ((x_train[j] - x_train.mean()) * (x_train[j] - x_train.mean()))\n",
    "            \n",
    "        # Calculate the slope (m) using the ratio of numerator to denominator\n",
    "        self.m = num1 / den\n",
    "        \n",
    "        # Calculate the intercept (b) using the mean values of x_train, y_train, and the slope        \n",
    "        self.b = y_train.mean() - (self.m * x_train.mean())\n",
    "        \n",
    "        # Print the calculated slope and intercept\n",
    "        print(\"Slope (m):\", self.m)\n",
    "        print(\"Intercept (b):\", self.b)\n",
    "        \n",
    "    # Method to make predictions using the trained model\n",
    "    def predict(self, x_test):\n",
    "        # Use the linear equation y = mx + b to predict the output values\n",
    "        return self.m * x_test + self.b\n"
   ]
  },
  {
   "cell_type": "code",
   "execution_count": 115,
   "id": "45da1ffc",
   "metadata": {},
   "outputs": [
    {
     "data": {
      "text/plain": [
       "array([0.37454012, 0.95071431, 0.73199394, 0.59865848, 0.15601864,\n",
       "       0.15599452, 0.05808361, 0.86617615, 0.60111501, 0.70807258,\n",
       "       0.02058449, 0.96990985, 0.83244264, 0.21233911, 0.18182497,\n",
       "       0.18340451, 0.30424224, 0.52475643, 0.43194502, 0.29122914,\n",
       "       0.61185289, 0.13949386, 0.29214465, 0.36636184, 0.45606998,\n",
       "       0.78517596, 0.19967378, 0.51423444, 0.59241457, 0.04645041,\n",
       "       0.60754485, 0.17052412, 0.06505159, 0.94888554, 0.96563203,\n",
       "       0.80839735, 0.30461377, 0.09767211, 0.68423303, 0.44015249,\n",
       "       0.12203823, 0.49517691, 0.03438852, 0.9093204 , 0.25877998,\n",
       "       0.66252228, 0.31171108, 0.52006802, 0.54671028, 0.18485446])"
      ]
     },
     "execution_count": 115,
     "metadata": {},
     "output_type": "execute_result"
    }
   ],
   "source": [
    "import numpy as np\n",
    "# Generate example data for demonstration\n",
    "np.random.seed(42)\n",
    "x_train = np.random.rand(50)\n",
    "x_train\n"
   ]
  },
  {
   "cell_type": "code",
   "execution_count": 116,
   "id": "41cf65d1",
   "metadata": {
    "scrolled": true
   },
   "outputs": [
    {
     "data": {
      "text/plain": [
       "array([1.89677355, 2.93570227, 2.44085823, 2.13709623, 1.01633288,\n",
       "       1.1680202 , 1.02403947, 2.94377674, 2.27095368, 2.06353712,\n",
       "       1.10598578, 2.86280325, 2.52950088, 1.54701348, 1.56984984,\n",
       "       1.55306504, 1.44064098, 1.98767039, 1.93014272, 1.77756731,\n",
       "       2.12787094, 1.24185593, 1.3630223 , 1.49348236, 2.07464513,\n",
       "       2.84159993, 1.38494554, 2.22917546, 2.25715634, 0.96387687,\n",
       "       2.28736882, 1.64865556, 1.12293798, 3.21069981, 2.40731505,\n",
       "       2.7811752 , 1.62663695, 1.13554276, 2.38681821, 1.4827912 ,\n",
       "       1.20014209, 2.06177633, 1.36435585, 2.71498676, 1.35586124,\n",
       "       2.22469316, 1.80650258, 2.10588626, 1.98746852, 1.4723624 ])"
      ]
     },
     "execution_count": 116,
     "metadata": {},
     "output_type": "execute_result"
    }
   ],
   "source": [
    "y_train = 2 * x_train + 1 + np.random.normal(0, 0.2, 50)\n",
    "y_train"
   ]
  },
  {
   "cell_type": "code",
   "execution_count": 117,
   "id": "26c5e709",
   "metadata": {},
   "outputs": [
    {
     "data": {
      "text/plain": [
       "<matplotlib.collections.PathCollection at 0x276cb62ef10>"
      ]
     },
     "execution_count": 117,
     "metadata": {},
     "output_type": "execute_result"
    },
    {
     "data": {
      "image/png": "[encoded data removed]",
      "text/plain": [
       "<Figure size 640x480 with 1 Axes>"
      ]
     },
     "metadata": {},
     "output_type": "display_data"
    }
   ],
   "source": [
    "import matplotlib.pyplot as plt\n",
    "plt.scatter(x_train, y_train)"
   ]
  },
  {
   "cell_type": "code",
   "execution_count": 118,
   "id": "360aa098",
   "metadata": {},
   "outputs": [
    {
     "data": {
      "text/plain": [
       "<__main__.MyLR at 0x276cb589550>"
      ]
     },
     "execution_count": 118,
     "metadata": {},
     "output_type": "execute_result"
    }
   ],
   "source": [
    "# Create an instance of the MyLR class\n",
    "my_lr_model = MyLR()\n",
    "my_lr_model"
   ]
  },
  {
   "cell_type": "code",
   "execution_count": 119,
   "id": "e9bb7873",
   "metadata": {},
   "outputs": [
    {
     "name": "stdout",
     "output_type": "stream",
     "text": [
      "Slope (m): 1.9553132007706198\n",
      "Intercept (b): 1.019337854893778\n"
     ]
    }
   ],
   "source": [
    "# Fit the model to the training data\n",
    "my_lr_model.fit(x_train, y_train)"
   ]
  },
  {
   "cell_type": "code",
   "execution_count": 126,
   "id": "ac5e7948",
   "metadata": {},
   "outputs": [
    {
     "data": {
      "image/png": "[encoded data removed]",
      "text/plain": [
       "<Figure size 640x480 with 1 Axes>"
      ]
     },
     "metadata": {},
     "output_type": "display_data"
    }
   ],
   "source": [
    "    # Plot the original data points and the linear regression line\n",
    "    plt.scatter(x_train, y_train, label='Original Data')\n",
    "    plt.plot(x_train, my_lr_model.predict(x_train), color='red', label='Regression Line')\n",
    "    plt.xlabel('x_train')\n",
    "    plt.ylabel('y_train')\n",
    "    plt.legend()\n",
    "    plt.title('Simple Linear Regression')\n",
    "    plt.show()"
   ]
  },
  {
   "cell_type": "code",
   "execution_count": 131,
   "id": "7392504a",
   "metadata": {},
   "outputs": [
    {
     "name": "stdout",
     "output_type": "stream",
     "text": [
      "Predictions: [1.4104005  1.80146314 2.19252578]\n"
     ]
    }
   ],
   "source": [
    "# Make predictions using the trained model\n",
    "x_test = np.array([0.2, 0.4, 0.6])\n",
    "predictions = my_lr_model.predict(x_test)\n",
    "print(\"Predictions:\", predictions)"
   ]
  },
  {
   "cell_type": "code",
   "execution_count": 135,
   "id": "3f59e888",
   "metadata": {},
   "outputs": [
    {
     "name": "stdout",
     "output_type": "stream",
     "text": [
      "Mean Squared Error (MSE): 0.03292284574994752\n"
     ]
    }
   ],
   "source": [
    "# Calculate and print the Mean Squared Error (MSE) for predictions\n",
    "mse = np.mean((my_lr_model.predict(x_train) - y_train) ** 2)\n",
    "print(\"Mean Squared Error (MSE):\", mse)"
   ]
  },
  {
   "cell_type": "markdown",
   "id": "e3aecf38",
   "metadata": {},
   "source": [
    "<!-- We have a mathematical expression that involves multiplying a number by another number, adding 1 to the result, and adding a random value to it. Let's break it down:\n",
    "\n",
    "- \"2 * x_train\" means that we take the value of x_train (whatever it might be) and multiply it by 2.\n",
    "- \"+ 1\" means that we add 1 to the result of the multiplication.\n",
    "- \"np.random.normal(0, ...\" is a function that generates a random number. The \"0\" represents the average value of the randomness, and we're not given the rest of the information, so we can't provide a complete explanation.\n",
    "\n",
    "In simpler terms, we take a number (x_train), multiply it by 2, add 1 to the result, and then add some random value to it.\n",
    "\n",
    "Constraint programming is a technique used in computer science to solve complex problems by representing them as a set of constraints or rules. It helps find solutions that satisfy all the given constraints. \n",
    "\n",
    "Think of it like solving a puzzle. Imagine you have a grid with empty cells and some numbers. The goal is to fill in the empty cells with numbers, following certain rules. For example, each row and column should have unique numbers, and each region should have all the numbers from 1 to 9 without repetition. Constraint programming helps find the correct arrangement of numbers that satisfies all these rules.\n",
    "\n",
    "In computer science, constraint programming can be applied to various real-world problems, such as scheduling tasks, optimizing resources, or solving Sudoku puzzles. It's like a powerful tool that helps find the best solution to complex problems by considering all the constraints involved.\n",
    "\n",
    "So, constraint programming is like a strategy to find the right answers in a complicated scenario, just like solving puzzles or making plans while following certain rules. -->"
   ]
  },
  {
   "cell_type": "code",
   "execution_count": null,
   "id": "81b4ba30",
   "metadata": {},
   "outputs": [],
   "source": []
  }
 ],
 "metadata": {
  "kernelspec": {
   "display_name": "Python 3 (ipykernel)",
   "language": "python",
   "name": "python3"
  },
  "language_info": {
   "codemirror_mode": {
    "name": "ipython",
    "version": 3
   },
   "file_extension": ".py",
   "mimetype": "text/x-python",
   "name": "python",
   "nbconvert_exporter": "python",
   "pygments_lexer": "ipython3",
   "version": "3.11.3"
  }
 },
 "nbformat": 4,
 "nbformat_minor": 5
}
